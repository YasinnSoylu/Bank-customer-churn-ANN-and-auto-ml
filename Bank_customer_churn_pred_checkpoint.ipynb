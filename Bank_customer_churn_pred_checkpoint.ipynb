{
  "cells": [
    {
      "cell_type": "markdown",
      "metadata": {
        "id": "view-in-github",
        "colab_type": "text"
      },
      "source": [
        "<a href=\"https://colab.research.google.com/github/YasinnSoylu/Bank-customer-churn-ANN-and-auto-ml/blob/main/Bank_customer_churn_pred_checkpoint.ipynb\" target=\"_parent\"><img src=\"https://colab.research.google.com/assets/colab-badge.svg\" alt=\"Open In Colab\"/></a>"
      ]
    },
    {
      "cell_type": "code",
      "execution_count": 97,
      "id": "db12b230",
      "metadata": {
        "id": "db12b230"
      },
      "outputs": [],
      "source": [
        "import pandas as pd\n",
        "from matplotlib import pyplot as plt\n",
        "import numpy as np\n",
        "%matplotlib inline"
      ]
    },
    {
      "cell_type": "code",
      "execution_count": 98,
      "id": "183abaf5",
      "metadata": {
        "id": "183abaf5"
      },
      "outputs": [],
      "source": [
        "df = pd.read_csv(\"Churn_Modelling.csv\")"
      ]
    },
    {
      "cell_type": "code",
      "execution_count": 99,
      "id": "Xiwb6cufmo0Q",
      "metadata": {
        "id": "Xiwb6cufmo0Q",
        "colab": {
          "base_uri": "https://localhost:8080/",
          "height": 206
        },
        "outputId": "0629d302-94ab-4da2-facd-013e592695e1"
      },
      "outputs": [
        {
          "output_type": "execute_result",
          "data": {
            "text/plain": [
              "   RowNumber  CustomerId   Surname  CreditScore Geography  Gender  Age  \\\n",
              "0          1    15634602  Hargrave          619    France  Female   42   \n",
              "1          2    15647311      Hill          608     Spain  Female   41   \n",
              "2          3    15619304      Onio          502    France  Female   42   \n",
              "3          4    15701354      Boni          699    France  Female   39   \n",
              "4          5    15737888  Mitchell          850     Spain  Female   43   \n",
              "\n",
              "   Tenure    Balance  NumOfProducts  HasCrCard  IsActiveMember  \\\n",
              "0       2       0.00              1          1               1   \n",
              "1       1   83807.86              1          0               1   \n",
              "2       8  159660.80              3          1               0   \n",
              "3       1       0.00              2          0               0   \n",
              "4       2  125510.82              1          1               1   \n",
              "\n",
              "   EstimatedSalary  Exited  \n",
              "0        101348.88       1  \n",
              "1        112542.58       0  \n",
              "2        113931.57       1  \n",
              "3         93826.63       0  \n",
              "4         79084.10       0  "
            ],
            "text/html": [
              "\n",
              "  <div id=\"df-7457ac2e-88cb-49c2-8826-1bf1edf414e6\">\n",
              "    <div class=\"colab-df-container\">\n",
              "      <div>\n",
              "<style scoped>\n",
              "    .dataframe tbody tr th:only-of-type {\n",
              "        vertical-align: middle;\n",
              "    }\n",
              "\n",
              "    .dataframe tbody tr th {\n",
              "        vertical-align: top;\n",
              "    }\n",
              "\n",
              "    .dataframe thead th {\n",
              "        text-align: right;\n",
              "    }\n",
              "</style>\n",
              "<table border=\"1\" class=\"dataframe\">\n",
              "  <thead>\n",
              "    <tr style=\"text-align: right;\">\n",
              "      <th></th>\n",
              "      <th>RowNumber</th>\n",
              "      <th>CustomerId</th>\n",
              "      <th>Surname</th>\n",
              "      <th>CreditScore</th>\n",
              "      <th>Geography</th>\n",
              "      <th>Gender</th>\n",
              "      <th>Age</th>\n",
              "      <th>Tenure</th>\n",
              "      <th>Balance</th>\n",
              "      <th>NumOfProducts</th>\n",
              "      <th>HasCrCard</th>\n",
              "      <th>IsActiveMember</th>\n",
              "      <th>EstimatedSalary</th>\n",
              "      <th>Exited</th>\n",
              "    </tr>\n",
              "  </thead>\n",
              "  <tbody>\n",
              "    <tr>\n",
              "      <th>0</th>\n",
              "      <td>1</td>\n",
              "      <td>15634602</td>\n",
              "      <td>Hargrave</td>\n",
              "      <td>619</td>\n",
              "      <td>France</td>\n",
              "      <td>Female</td>\n",
              "      <td>42</td>\n",
              "      <td>2</td>\n",
              "      <td>0.00</td>\n",
              "      <td>1</td>\n",
              "      <td>1</td>\n",
              "      <td>1</td>\n",
              "      <td>101348.88</td>\n",
              "      <td>1</td>\n",
              "    </tr>\n",
              "    <tr>\n",
              "      <th>1</th>\n",
              "      <td>2</td>\n",
              "      <td>15647311</td>\n",
              "      <td>Hill</td>\n",
              "      <td>608</td>\n",
              "      <td>Spain</td>\n",
              "      <td>Female</td>\n",
              "      <td>41</td>\n",
              "      <td>1</td>\n",
              "      <td>83807.86</td>\n",
              "      <td>1</td>\n",
              "      <td>0</td>\n",
              "      <td>1</td>\n",
              "      <td>112542.58</td>\n",
              "      <td>0</td>\n",
              "    </tr>\n",
              "    <tr>\n",
              "      <th>2</th>\n",
              "      <td>3</td>\n",
              "      <td>15619304</td>\n",
              "      <td>Onio</td>\n",
              "      <td>502</td>\n",
              "      <td>France</td>\n",
              "      <td>Female</td>\n",
              "      <td>42</td>\n",
              "      <td>8</td>\n",
              "      <td>159660.80</td>\n",
              "      <td>3</td>\n",
              "      <td>1</td>\n",
              "      <td>0</td>\n",
              "      <td>113931.57</td>\n",
              "      <td>1</td>\n",
              "    </tr>\n",
              "    <tr>\n",
              "      <th>3</th>\n",
              "      <td>4</td>\n",
              "      <td>15701354</td>\n",
              "      <td>Boni</td>\n",
              "      <td>699</td>\n",
              "      <td>France</td>\n",
              "      <td>Female</td>\n",
              "      <td>39</td>\n",
              "      <td>1</td>\n",
              "      <td>0.00</td>\n",
              "      <td>2</td>\n",
              "      <td>0</td>\n",
              "      <td>0</td>\n",
              "      <td>93826.63</td>\n",
              "      <td>0</td>\n",
              "    </tr>\n",
              "    <tr>\n",
              "      <th>4</th>\n",
              "      <td>5</td>\n",
              "      <td>15737888</td>\n",
              "      <td>Mitchell</td>\n",
              "      <td>850</td>\n",
              "      <td>Spain</td>\n",
              "      <td>Female</td>\n",
              "      <td>43</td>\n",
              "      <td>2</td>\n",
              "      <td>125510.82</td>\n",
              "      <td>1</td>\n",
              "      <td>1</td>\n",
              "      <td>1</td>\n",
              "      <td>79084.10</td>\n",
              "      <td>0</td>\n",
              "    </tr>\n",
              "  </tbody>\n",
              "</table>\n",
              "</div>\n",
              "      <button class=\"colab-df-convert\" onclick=\"convertToInteractive('df-7457ac2e-88cb-49c2-8826-1bf1edf414e6')\"\n",
              "              title=\"Convert this dataframe to an interactive table.\"\n",
              "              style=\"display:none;\">\n",
              "        \n",
              "  <svg xmlns=\"http://www.w3.org/2000/svg\" height=\"24px\"viewBox=\"0 0 24 24\"\n",
              "       width=\"24px\">\n",
              "    <path d=\"M0 0h24v24H0V0z\" fill=\"none\"/>\n",
              "    <path d=\"M18.56 5.44l.94 2.06.94-2.06 2.06-.94-2.06-.94-.94-2.06-.94 2.06-2.06.94zm-11 1L8.5 8.5l.94-2.06 2.06-.94-2.06-.94L8.5 2.5l-.94 2.06-2.06.94zm10 10l.94 2.06.94-2.06 2.06-.94-2.06-.94-.94-2.06-.94 2.06-2.06.94z\"/><path d=\"M17.41 7.96l-1.37-1.37c-.4-.4-.92-.59-1.43-.59-.52 0-1.04.2-1.43.59L10.3 9.45l-7.72 7.72c-.78.78-.78 2.05 0 2.83L4 21.41c.39.39.9.59 1.41.59.51 0 1.02-.2 1.41-.59l7.78-7.78 2.81-2.81c.8-.78.8-2.07 0-2.86zM5.41 20L4 18.59l7.72-7.72 1.47 1.35L5.41 20z\"/>\n",
              "  </svg>\n",
              "      </button>\n",
              "      \n",
              "  <style>\n",
              "    .colab-df-container {\n",
              "      display:flex;\n",
              "      flex-wrap:wrap;\n",
              "      gap: 12px;\n",
              "    }\n",
              "\n",
              "    .colab-df-convert {\n",
              "      background-color: #E8F0FE;\n",
              "      border: none;\n",
              "      border-radius: 50%;\n",
              "      cursor: pointer;\n",
              "      display: none;\n",
              "      fill: #1967D2;\n",
              "      height: 32px;\n",
              "      padding: 0 0 0 0;\n",
              "      width: 32px;\n",
              "    }\n",
              "\n",
              "    .colab-df-convert:hover {\n",
              "      background-color: #E2EBFA;\n",
              "      box-shadow: 0px 1px 2px rgba(60, 64, 67, 0.3), 0px 1px 3px 1px rgba(60, 64, 67, 0.15);\n",
              "      fill: #174EA6;\n",
              "    }\n",
              "\n",
              "    [theme=dark] .colab-df-convert {\n",
              "      background-color: #3B4455;\n",
              "      fill: #D2E3FC;\n",
              "    }\n",
              "\n",
              "    [theme=dark] .colab-df-convert:hover {\n",
              "      background-color: #434B5C;\n",
              "      box-shadow: 0px 1px 3px 1px rgba(0, 0, 0, 0.15);\n",
              "      filter: drop-shadow(0px 1px 2px rgba(0, 0, 0, 0.3));\n",
              "      fill: #FFFFFF;\n",
              "    }\n",
              "  </style>\n",
              "\n",
              "      <script>\n",
              "        const buttonEl =\n",
              "          document.querySelector('#df-7457ac2e-88cb-49c2-8826-1bf1edf414e6 button.colab-df-convert');\n",
              "        buttonEl.style.display =\n",
              "          google.colab.kernel.accessAllowed ? 'block' : 'none';\n",
              "\n",
              "        async function convertToInteractive(key) {\n",
              "          const element = document.querySelector('#df-7457ac2e-88cb-49c2-8826-1bf1edf414e6');\n",
              "          const dataTable =\n",
              "            await google.colab.kernel.invokeFunction('convertToInteractive',\n",
              "                                                     [key], {});\n",
              "          if (!dataTable) return;\n",
              "\n",
              "          const docLinkHtml = 'Like what you see? Visit the ' +\n",
              "            '<a target=\"_blank\" href=https://colab.research.google.com/notebooks/data_table.ipynb>data table notebook</a>'\n",
              "            + ' to learn more about interactive tables.';\n",
              "          element.innerHTML = '';\n",
              "          dataTable['output_type'] = 'display_data';\n",
              "          await google.colab.output.renderOutput(dataTable, element);\n",
              "          const docLink = document.createElement('div');\n",
              "          docLink.innerHTML = docLinkHtml;\n",
              "          element.appendChild(docLink);\n",
              "        }\n",
              "      </script>\n",
              "    </div>\n",
              "  </div>\n",
              "  "
            ]
          },
          "metadata": {},
          "execution_count": 99
        }
      ],
      "source": [
        "df.head()"
      ]
    },
    {
      "cell_type": "code",
      "execution_count": 100,
      "id": "d4aedbe5",
      "metadata": {
        "id": "d4aedbe5"
      },
      "outputs": [],
      "source": [
        "df.drop(['CustomerId','RowNumber','Surname'],axis='columns',inplace=True)"
      ]
    },
    {
      "cell_type": "code",
      "execution_count": 101,
      "id": "tQkrWMug2Y1o",
      "metadata": {
        "id": "tQkrWMug2Y1o",
        "colab": {
          "base_uri": "https://localhost:8080/",
          "height": 206
        },
        "outputId": "9d0a5a17-1882-4ae0-8a8a-97e69da65e73"
      },
      "outputs": [
        {
          "output_type": "execute_result",
          "data": {
            "text/plain": [
              "   CreditScore Geography  Gender  Age  Tenure    Balance  NumOfProducts  \\\n",
              "0          619    France  Female   42       2       0.00              1   \n",
              "1          608     Spain  Female   41       1   83807.86              1   \n",
              "2          502    France  Female   42       8  159660.80              3   \n",
              "3          699    France  Female   39       1       0.00              2   \n",
              "4          850     Spain  Female   43       2  125510.82              1   \n",
              "\n",
              "   HasCrCard  IsActiveMember  EstimatedSalary  Exited  \n",
              "0          1               1        101348.88       1  \n",
              "1          0               1        112542.58       0  \n",
              "2          1               0        113931.57       1  \n",
              "3          0               0         93826.63       0  \n",
              "4          1               1         79084.10       0  "
            ],
            "text/html": [
              "\n",
              "  <div id=\"df-0cd65954-4941-41c0-84f5-3cd3709113dc\">\n",
              "    <div class=\"colab-df-container\">\n",
              "      <div>\n",
              "<style scoped>\n",
              "    .dataframe tbody tr th:only-of-type {\n",
              "        vertical-align: middle;\n",
              "    }\n",
              "\n",
              "    .dataframe tbody tr th {\n",
              "        vertical-align: top;\n",
              "    }\n",
              "\n",
              "    .dataframe thead th {\n",
              "        text-align: right;\n",
              "    }\n",
              "</style>\n",
              "<table border=\"1\" class=\"dataframe\">\n",
              "  <thead>\n",
              "    <tr style=\"text-align: right;\">\n",
              "      <th></th>\n",
              "      <th>CreditScore</th>\n",
              "      <th>Geography</th>\n",
              "      <th>Gender</th>\n",
              "      <th>Age</th>\n",
              "      <th>Tenure</th>\n",
              "      <th>Balance</th>\n",
              "      <th>NumOfProducts</th>\n",
              "      <th>HasCrCard</th>\n",
              "      <th>IsActiveMember</th>\n",
              "      <th>EstimatedSalary</th>\n",
              "      <th>Exited</th>\n",
              "    </tr>\n",
              "  </thead>\n",
              "  <tbody>\n",
              "    <tr>\n",
              "      <th>0</th>\n",
              "      <td>619</td>\n",
              "      <td>France</td>\n",
              "      <td>Female</td>\n",
              "      <td>42</td>\n",
              "      <td>2</td>\n",
              "      <td>0.00</td>\n",
              "      <td>1</td>\n",
              "      <td>1</td>\n",
              "      <td>1</td>\n",
              "      <td>101348.88</td>\n",
              "      <td>1</td>\n",
              "    </tr>\n",
              "    <tr>\n",
              "      <th>1</th>\n",
              "      <td>608</td>\n",
              "      <td>Spain</td>\n",
              "      <td>Female</td>\n",
              "      <td>41</td>\n",
              "      <td>1</td>\n",
              "      <td>83807.86</td>\n",
              "      <td>1</td>\n",
              "      <td>0</td>\n",
              "      <td>1</td>\n",
              "      <td>112542.58</td>\n",
              "      <td>0</td>\n",
              "    </tr>\n",
              "    <tr>\n",
              "      <th>2</th>\n",
              "      <td>502</td>\n",
              "      <td>France</td>\n",
              "      <td>Female</td>\n",
              "      <td>42</td>\n",
              "      <td>8</td>\n",
              "      <td>159660.80</td>\n",
              "      <td>3</td>\n",
              "      <td>1</td>\n",
              "      <td>0</td>\n",
              "      <td>113931.57</td>\n",
              "      <td>1</td>\n",
              "    </tr>\n",
              "    <tr>\n",
              "      <th>3</th>\n",
              "      <td>699</td>\n",
              "      <td>France</td>\n",
              "      <td>Female</td>\n",
              "      <td>39</td>\n",
              "      <td>1</td>\n",
              "      <td>0.00</td>\n",
              "      <td>2</td>\n",
              "      <td>0</td>\n",
              "      <td>0</td>\n",
              "      <td>93826.63</td>\n",
              "      <td>0</td>\n",
              "    </tr>\n",
              "    <tr>\n",
              "      <th>4</th>\n",
              "      <td>850</td>\n",
              "      <td>Spain</td>\n",
              "      <td>Female</td>\n",
              "      <td>43</td>\n",
              "      <td>2</td>\n",
              "      <td>125510.82</td>\n",
              "      <td>1</td>\n",
              "      <td>1</td>\n",
              "      <td>1</td>\n",
              "      <td>79084.10</td>\n",
              "      <td>0</td>\n",
              "    </tr>\n",
              "  </tbody>\n",
              "</table>\n",
              "</div>\n",
              "      <button class=\"colab-df-convert\" onclick=\"convertToInteractive('df-0cd65954-4941-41c0-84f5-3cd3709113dc')\"\n",
              "              title=\"Convert this dataframe to an interactive table.\"\n",
              "              style=\"display:none;\">\n",
              "        \n",
              "  <svg xmlns=\"http://www.w3.org/2000/svg\" height=\"24px\"viewBox=\"0 0 24 24\"\n",
              "       width=\"24px\">\n",
              "    <path d=\"M0 0h24v24H0V0z\" fill=\"none\"/>\n",
              "    <path d=\"M18.56 5.44l.94 2.06.94-2.06 2.06-.94-2.06-.94-.94-2.06-.94 2.06-2.06.94zm-11 1L8.5 8.5l.94-2.06 2.06-.94-2.06-.94L8.5 2.5l-.94 2.06-2.06.94zm10 10l.94 2.06.94-2.06 2.06-.94-2.06-.94-.94-2.06-.94 2.06-2.06.94z\"/><path d=\"M17.41 7.96l-1.37-1.37c-.4-.4-.92-.59-1.43-.59-.52 0-1.04.2-1.43.59L10.3 9.45l-7.72 7.72c-.78.78-.78 2.05 0 2.83L4 21.41c.39.39.9.59 1.41.59.51 0 1.02-.2 1.41-.59l7.78-7.78 2.81-2.81c.8-.78.8-2.07 0-2.86zM5.41 20L4 18.59l7.72-7.72 1.47 1.35L5.41 20z\"/>\n",
              "  </svg>\n",
              "      </button>\n",
              "      \n",
              "  <style>\n",
              "    .colab-df-container {\n",
              "      display:flex;\n",
              "      flex-wrap:wrap;\n",
              "      gap: 12px;\n",
              "    }\n",
              "\n",
              "    .colab-df-convert {\n",
              "      background-color: #E8F0FE;\n",
              "      border: none;\n",
              "      border-radius: 50%;\n",
              "      cursor: pointer;\n",
              "      display: none;\n",
              "      fill: #1967D2;\n",
              "      height: 32px;\n",
              "      padding: 0 0 0 0;\n",
              "      width: 32px;\n",
              "    }\n",
              "\n",
              "    .colab-df-convert:hover {\n",
              "      background-color: #E2EBFA;\n",
              "      box-shadow: 0px 1px 2px rgba(60, 64, 67, 0.3), 0px 1px 3px 1px rgba(60, 64, 67, 0.15);\n",
              "      fill: #174EA6;\n",
              "    }\n",
              "\n",
              "    [theme=dark] .colab-df-convert {\n",
              "      background-color: #3B4455;\n",
              "      fill: #D2E3FC;\n",
              "    }\n",
              "\n",
              "    [theme=dark] .colab-df-convert:hover {\n",
              "      background-color: #434B5C;\n",
              "      box-shadow: 0px 1px 3px 1px rgba(0, 0, 0, 0.15);\n",
              "      filter: drop-shadow(0px 1px 2px rgba(0, 0, 0, 0.3));\n",
              "      fill: #FFFFFF;\n",
              "    }\n",
              "  </style>\n",
              "\n",
              "      <script>\n",
              "        const buttonEl =\n",
              "          document.querySelector('#df-0cd65954-4941-41c0-84f5-3cd3709113dc button.colab-df-convert');\n",
              "        buttonEl.style.display =\n",
              "          google.colab.kernel.accessAllowed ? 'block' : 'none';\n",
              "\n",
              "        async function convertToInteractive(key) {\n",
              "          const element = document.querySelector('#df-0cd65954-4941-41c0-84f5-3cd3709113dc');\n",
              "          const dataTable =\n",
              "            await google.colab.kernel.invokeFunction('convertToInteractive',\n",
              "                                                     [key], {});\n",
              "          if (!dataTable) return;\n",
              "\n",
              "          const docLinkHtml = 'Like what you see? Visit the ' +\n",
              "            '<a target=\"_blank\" href=https://colab.research.google.com/notebooks/data_table.ipynb>data table notebook</a>'\n",
              "            + ' to learn more about interactive tables.';\n",
              "          element.innerHTML = '';\n",
              "          dataTable['output_type'] = 'display_data';\n",
              "          await google.colab.output.renderOutput(dataTable, element);\n",
              "          const docLink = document.createElement('div');\n",
              "          docLink.innerHTML = docLinkHtml;\n",
              "          element.appendChild(docLink);\n",
              "        }\n",
              "      </script>\n",
              "    </div>\n",
              "  </div>\n",
              "  "
            ]
          },
          "metadata": {},
          "execution_count": 101
        }
      ],
      "source": [
        "df.head()"
      ]
    },
    {
      "cell_type": "code",
      "execution_count": 102,
      "id": "9735f62e",
      "metadata": {
        "id": "9735f62e",
        "colab": {
          "base_uri": "https://localhost:8080/"
        },
        "outputId": "f22461e5-3518-4f66-fcbd-71c54a90e6ae"
      },
      "outputs": [
        {
          "output_type": "execute_result",
          "data": {
            "text/plain": [
              "CreditScore          int64\n",
              "Geography           object\n",
              "Gender              object\n",
              "Age                  int64\n",
              "Tenure               int64\n",
              "Balance            float64\n",
              "NumOfProducts        int64\n",
              "HasCrCard            int64\n",
              "IsActiveMember       int64\n",
              "EstimatedSalary    float64\n",
              "Exited               int64\n",
              "dtype: object"
            ]
          },
          "metadata": {},
          "execution_count": 102
        }
      ],
      "source": [
        "df.dtypes"
      ]
    },
    {
      "cell_type": "markdown",
      "id": "9yu3VCshn6G9",
      "metadata": {
        "id": "9yu3VCshn6G9"
      },
      "source": [
        "#Data Analysis"
      ]
    },
    {
      "cell_type": "code",
      "execution_count": 103,
      "id": "dwEVFRSGnLJi",
      "metadata": {
        "id": "dwEVFRSGnLJi",
        "colab": {
          "base_uri": "https://localhost:8080/",
          "height": 206
        },
        "outputId": "c311306d-6b00-4053-df08-0584315b7ace"
      },
      "outputs": [
        {
          "output_type": "execute_result",
          "data": {
            "text/plain": [
              "   CreditScore Geography  Gender  Age  Tenure    Balance  NumOfProducts  \\\n",
              "0          619    France  Female   42       2       0.00              1   \n",
              "1          608     Spain  Female   41       1   83807.86              1   \n",
              "2          502    France  Female   42       8  159660.80              3   \n",
              "3          699    France  Female   39       1       0.00              2   \n",
              "4          850     Spain  Female   43       2  125510.82              1   \n",
              "\n",
              "   HasCrCard  IsActiveMember  EstimatedSalary  Exited  \n",
              "0          1               1        101348.88       1  \n",
              "1          0               1        112542.58       0  \n",
              "2          1               0        113931.57       1  \n",
              "3          0               0         93826.63       0  \n",
              "4          1               1         79084.10       0  "
            ],
            "text/html": [
              "\n",
              "  <div id=\"df-3da1d750-39c2-4246-83b5-cbd15ace0d16\">\n",
              "    <div class=\"colab-df-container\">\n",
              "      <div>\n",
              "<style scoped>\n",
              "    .dataframe tbody tr th:only-of-type {\n",
              "        vertical-align: middle;\n",
              "    }\n",
              "\n",
              "    .dataframe tbody tr th {\n",
              "        vertical-align: top;\n",
              "    }\n",
              "\n",
              "    .dataframe thead th {\n",
              "        text-align: right;\n",
              "    }\n",
              "</style>\n",
              "<table border=\"1\" class=\"dataframe\">\n",
              "  <thead>\n",
              "    <tr style=\"text-align: right;\">\n",
              "      <th></th>\n",
              "      <th>CreditScore</th>\n",
              "      <th>Geography</th>\n",
              "      <th>Gender</th>\n",
              "      <th>Age</th>\n",
              "      <th>Tenure</th>\n",
              "      <th>Balance</th>\n",
              "      <th>NumOfProducts</th>\n",
              "      <th>HasCrCard</th>\n",
              "      <th>IsActiveMember</th>\n",
              "      <th>EstimatedSalary</th>\n",
              "      <th>Exited</th>\n",
              "    </tr>\n",
              "  </thead>\n",
              "  <tbody>\n",
              "    <tr>\n",
              "      <th>0</th>\n",
              "      <td>619</td>\n",
              "      <td>France</td>\n",
              "      <td>Female</td>\n",
              "      <td>42</td>\n",
              "      <td>2</td>\n",
              "      <td>0.00</td>\n",
              "      <td>1</td>\n",
              "      <td>1</td>\n",
              "      <td>1</td>\n",
              "      <td>101348.88</td>\n",
              "      <td>1</td>\n",
              "    </tr>\n",
              "    <tr>\n",
              "      <th>1</th>\n",
              "      <td>608</td>\n",
              "      <td>Spain</td>\n",
              "      <td>Female</td>\n",
              "      <td>41</td>\n",
              "      <td>1</td>\n",
              "      <td>83807.86</td>\n",
              "      <td>1</td>\n",
              "      <td>0</td>\n",
              "      <td>1</td>\n",
              "      <td>112542.58</td>\n",
              "      <td>0</td>\n",
              "    </tr>\n",
              "    <tr>\n",
              "      <th>2</th>\n",
              "      <td>502</td>\n",
              "      <td>France</td>\n",
              "      <td>Female</td>\n",
              "      <td>42</td>\n",
              "      <td>8</td>\n",
              "      <td>159660.80</td>\n",
              "      <td>3</td>\n",
              "      <td>1</td>\n",
              "      <td>0</td>\n",
              "      <td>113931.57</td>\n",
              "      <td>1</td>\n",
              "    </tr>\n",
              "    <tr>\n",
              "      <th>3</th>\n",
              "      <td>699</td>\n",
              "      <td>France</td>\n",
              "      <td>Female</td>\n",
              "      <td>39</td>\n",
              "      <td>1</td>\n",
              "      <td>0.00</td>\n",
              "      <td>2</td>\n",
              "      <td>0</td>\n",
              "      <td>0</td>\n",
              "      <td>93826.63</td>\n",
              "      <td>0</td>\n",
              "    </tr>\n",
              "    <tr>\n",
              "      <th>4</th>\n",
              "      <td>850</td>\n",
              "      <td>Spain</td>\n",
              "      <td>Female</td>\n",
              "      <td>43</td>\n",
              "      <td>2</td>\n",
              "      <td>125510.82</td>\n",
              "      <td>1</td>\n",
              "      <td>1</td>\n",
              "      <td>1</td>\n",
              "      <td>79084.10</td>\n",
              "      <td>0</td>\n",
              "    </tr>\n",
              "  </tbody>\n",
              "</table>\n",
              "</div>\n",
              "      <button class=\"colab-df-convert\" onclick=\"convertToInteractive('df-3da1d750-39c2-4246-83b5-cbd15ace0d16')\"\n",
              "              title=\"Convert this dataframe to an interactive table.\"\n",
              "              style=\"display:none;\">\n",
              "        \n",
              "  <svg xmlns=\"http://www.w3.org/2000/svg\" height=\"24px\"viewBox=\"0 0 24 24\"\n",
              "       width=\"24px\">\n",
              "    <path d=\"M0 0h24v24H0V0z\" fill=\"none\"/>\n",
              "    <path d=\"M18.56 5.44l.94 2.06.94-2.06 2.06-.94-2.06-.94-.94-2.06-.94 2.06-2.06.94zm-11 1L8.5 8.5l.94-2.06 2.06-.94-2.06-.94L8.5 2.5l-.94 2.06-2.06.94zm10 10l.94 2.06.94-2.06 2.06-.94-2.06-.94-.94-2.06-.94 2.06-2.06.94z\"/><path d=\"M17.41 7.96l-1.37-1.37c-.4-.4-.92-.59-1.43-.59-.52 0-1.04.2-1.43.59L10.3 9.45l-7.72 7.72c-.78.78-.78 2.05 0 2.83L4 21.41c.39.39.9.59 1.41.59.51 0 1.02-.2 1.41-.59l7.78-7.78 2.81-2.81c.8-.78.8-2.07 0-2.86zM5.41 20L4 18.59l7.72-7.72 1.47 1.35L5.41 20z\"/>\n",
              "  </svg>\n",
              "      </button>\n",
              "      \n",
              "  <style>\n",
              "    .colab-df-container {\n",
              "      display:flex;\n",
              "      flex-wrap:wrap;\n",
              "      gap: 12px;\n",
              "    }\n",
              "\n",
              "    .colab-df-convert {\n",
              "      background-color: #E8F0FE;\n",
              "      border: none;\n",
              "      border-radius: 50%;\n",
              "      cursor: pointer;\n",
              "      display: none;\n",
              "      fill: #1967D2;\n",
              "      height: 32px;\n",
              "      padding: 0 0 0 0;\n",
              "      width: 32px;\n",
              "    }\n",
              "\n",
              "    .colab-df-convert:hover {\n",
              "      background-color: #E2EBFA;\n",
              "      box-shadow: 0px 1px 2px rgba(60, 64, 67, 0.3), 0px 1px 3px 1px rgba(60, 64, 67, 0.15);\n",
              "      fill: #174EA6;\n",
              "    }\n",
              "\n",
              "    [theme=dark] .colab-df-convert {\n",
              "      background-color: #3B4455;\n",
              "      fill: #D2E3FC;\n",
              "    }\n",
              "\n",
              "    [theme=dark] .colab-df-convert:hover {\n",
              "      background-color: #434B5C;\n",
              "      box-shadow: 0px 1px 3px 1px rgba(0, 0, 0, 0.15);\n",
              "      filter: drop-shadow(0px 1px 2px rgba(0, 0, 0, 0.3));\n",
              "      fill: #FFFFFF;\n",
              "    }\n",
              "  </style>\n",
              "\n",
              "      <script>\n",
              "        const buttonEl =\n",
              "          document.querySelector('#df-3da1d750-39c2-4246-83b5-cbd15ace0d16 button.colab-df-convert');\n",
              "        buttonEl.style.display =\n",
              "          google.colab.kernel.accessAllowed ? 'block' : 'none';\n",
              "\n",
              "        async function convertToInteractive(key) {\n",
              "          const element = document.querySelector('#df-3da1d750-39c2-4246-83b5-cbd15ace0d16');\n",
              "          const dataTable =\n",
              "            await google.colab.kernel.invokeFunction('convertToInteractive',\n",
              "                                                     [key], {});\n",
              "          if (!dataTable) return;\n",
              "\n",
              "          const docLinkHtml = 'Like what you see? Visit the ' +\n",
              "            '<a target=\"_blank\" href=https://colab.research.google.com/notebooks/data_table.ipynb>data table notebook</a>'\n",
              "            + ' to learn more about interactive tables.';\n",
              "          element.innerHTML = '';\n",
              "          dataTable['output_type'] = 'display_data';\n",
              "          await google.colab.output.renderOutput(dataTable, element);\n",
              "          const docLink = document.createElement('div');\n",
              "          docLink.innerHTML = docLinkHtml;\n",
              "          element.appendChild(docLink);\n",
              "        }\n",
              "      </script>\n",
              "    </div>\n",
              "  </div>\n",
              "  "
            ]
          },
          "metadata": {},
          "execution_count": 103
        }
      ],
      "source": [
        "df.head()"
      ]
    },
    {
      "cell_type": "code",
      "execution_count": 104,
      "id": "PADzfr9SoKGh",
      "metadata": {
        "id": "PADzfr9SoKGh",
        "colab": {
          "base_uri": "https://localhost:8080/"
        },
        "outputId": "285f8678-914d-4cd8-e5f4-f16b22f5d716"
      },
      "outputs": [
        {
          "output_type": "execute_result",
          "data": {
            "text/plain": [
              "CreditScore         460\n",
              "Geography             3\n",
              "Gender                2\n",
              "Age                  70\n",
              "Tenure               11\n",
              "Balance            6382\n",
              "NumOfProducts         4\n",
              "HasCrCard             2\n",
              "IsActiveMember        2\n",
              "EstimatedSalary    9999\n",
              "Exited                2\n",
              "dtype: int64"
            ]
          },
          "metadata": {},
          "execution_count": 104
        }
      ],
      "source": [
        "df.nunique()"
      ]
    },
    {
      "cell_type": "markdown",
      "id": "fw4WDY0v7QxA",
      "metadata": {
        "id": "fw4WDY0v7QxA"
      },
      "source": [
        "## We will plot a Pie Chart "
      ]
    },
    {
      "cell_type": "code",
      "execution_count": 105,
      "id": "piIWgNTxnVF-",
      "metadata": {
        "id": "piIWgNTxnVF-",
        "colab": {
          "base_uri": "https://localhost:8080/",
          "height": 487
        },
        "outputId": "a3384dee-8a97-4188-f593-1976cc96ab6b"
      },
      "outputs": [
        {
          "output_type": "display_data",
          "data": {
            "text/plain": [
              "<Figure size 720x576 with 1 Axes>"
            ],
            "image/png": "[encoded data removed]"
          },
          "metadata": {}
        }
      ],
      "source": [
        "labels = 'Exited(Churned)', 'Retained'\n",
        "sizes = [df.Exited[df['Exited']==1].count(), df.Exited[df['Exited']==0].count()]\n",
        "explode = (0, 0.1)\n",
        "fig1, ax1 = plt.subplots(figsize=(10, 8))\n",
        "ax1.pie(sizes, explode=explode, labels=labels, autopct='%1.1f%%',\n",
        "        shadow=True, startangle=90)\n",
        "ax1.axis('equal')\n",
        "plt.title(\"Proportion of customer churned and retained\", size = 20)\n",
        "plt.show()"
      ]
    },
    {
      "cell_type": "code",
      "execution_count": 106,
      "id": "72i0IxD4oukt",
      "metadata": {
        "id": "72i0IxD4oukt"
      },
      "outputs": [],
      "source": [
        "import seaborn as sns"
      ]
    },
    {
      "cell_type": "code",
      "execution_count": 107,
      "id": "7b9K_mIrorK9",
      "metadata": {
        "id": "7b9K_mIrorK9",
        "colab": {
          "base_uri": "https://localhost:8080/",
          "height": 731
        },
        "outputId": "01cfcd14-4872-4216-9dec-e3977fd180af"
      },
      "outputs": [
        {
          "output_type": "execute_result",
          "data": {
            "text/plain": [
              "<matplotlib.axes._subplots.AxesSubplot at 0x7faca4c09af0>"
            ]
          },
          "metadata": {},
          "execution_count": 107
        },
        {
          "output_type": "display_data",
          "data": {
            "text/plain": [
              "<Figure size 1440x864 with 4 Axes>"
            ],
            "image/png": "[encoded data removed]"
          },
          "metadata": {
            "needs_background": "light"
          }
        }
      ],
      "source": [
        "    # We first review the 'Status' relation with categorical variables\n",
        "    fig, axarr = plt.subplots(2, 2, figsize=(20, 12))\n",
        "    sns.countplot(x='Geography', hue = 'Exited',data = df, ax=axarr[0][0])\n",
        "    sns.countplot(x='Gender', hue = 'Exited',data = df, ax=axarr[0][1])\n",
        "    sns.countplot(x='HasCrCard', hue = 'Exited',data = df, ax=axarr[1][0])\n",
        "    sns.countplot(x='IsActiveMember', hue = 'Exited',data = df, ax=axarr[1][1])"
      ]
    },
    {
      "cell_type": "code",
      "execution_count": 108,
      "id": "zZ880TaMpHCU",
      "metadata": {
        "id": "zZ880TaMpHCU",
        "colab": {
          "base_uri": "https://localhost:8080/",
          "height": 731
        },
        "outputId": "72a66d72-c46e-4fb6-8730-68a75f218e2b"
      },
      "outputs": [
        {
          "output_type": "execute_result",
          "data": {
            "text/plain": [
              "<matplotlib.axes._subplots.AxesSubplot at 0x7facab064040>"
            ]
          },
          "metadata": {},
          "execution_count": 108
        },
        {
          "output_type": "display_data",
          "data": {
            "text/plain": [
              "<Figure size 1440x864 with 6 Axes>"
            ],
            "image/png": "[encoded data removed]"
          },
          "metadata": {
            "needs_background": "light"
          }
        }
      ],
      "source": [
        "# Relations based on the continuous data attributes\n",
        "fig, axarr = plt.subplots(3, 2, figsize=(20, 12))\n",
        "sns.boxplot(y='CreditScore',x = 'Exited', hue = 'Exited',data = df, ax=axarr[0][0])\n",
        "sns.boxplot(y='Age',x = 'Exited', hue = 'Exited',data = df , ax=axarr[0][1])\n",
        "sns.boxplot(y='Tenure',x = 'Exited', hue = 'Exited',data = df, ax=axarr[1][0])\n",
        "sns.boxplot(y='Balance',x = 'Exited', hue = 'Exited',data = df, ax=axarr[1][1])\n",
        "sns.boxplot(y='NumOfProducts',x = 'Exited', hue = 'Exited',data = df, ax=axarr[2][0])\n",
        "sns.boxplot(y='EstimatedSalary',x = 'Exited', hue = 'Exited',data = df, ax=axarr[2][1])"
      ]
    },
    {
      "cell_type": "markdown",
      "id": "IUQi0ptz1uuI",
      "metadata": {
        "id": "IUQi0ptz1uuI"
      },
      "source": [
        "### Making a new column BalanceSalaryRatio"
      ]
    },
    {
      "cell_type": "code",
      "execution_count": 109,
      "id": "GguoygYy1GyR",
      "metadata": {
        "id": "GguoygYy1GyR",
        "colab": {
          "base_uri": "https://localhost:8080/",
          "height": 300
        },
        "outputId": "aaa82bdf-5b64-4c48-e220-37988ff18e80"
      },
      "outputs": [
        {
          "output_type": "execute_result",
          "data": {
            "text/plain": [
              "(-1.0, 5.0)"
            ]
          },
          "metadata": {},
          "execution_count": 109
        },
        {
          "output_type": "display_data",
          "data": {
            "text/plain": [
              "<Figure size 432x288 with 1 Axes>"
            ],
            "image/png": "[encoded data removed]"
          },
          "metadata": {
            "needs_background": "light"
          }
        }
      ],
      "source": [
        "df['BalanceSalaryRatio'] = df.Balance/df.EstimatedSalary\n",
        "sns.boxplot(y='BalanceSalaryRatio',x = 'Exited', hue = 'Exited',data = df)\n",
        "plt.ylim(-1, 5)"
      ]
    },
    {
      "cell_type": "code",
      "execution_count": 110,
      "id": "ATetvw8Z15eG",
      "metadata": {
        "id": "ATetvw8Z15eG",
        "colab": {
          "base_uri": "https://localhost:8080/",
          "height": 283
        },
        "outputId": "15b8d817-62ff-4139-ded1-6eba7cbd5780"
      },
      "outputs": [
        {
          "output_type": "display_data",
          "data": {
            "text/plain": [
              "<Figure size 432x288 with 1 Axes>"
            ],
            "image/png": "[encoded data removed]"
          },
          "metadata": {
            "needs_background": "light"
          }
        }
      ],
      "source": [
        "df['TenureByAge'] = df.Tenure/(df.Age)\n",
        "sns.boxplot(y='TenureByAge',x = 'Exited', hue = 'Exited',data = df)\n",
        "plt.ylim(-1, 1)\n",
        "plt.show()"
      ]
    },
    {
      "cell_type": "markdown",
      "id": "tNhNEOTe2bRI",
      "metadata": {
        "id": "tNhNEOTe2bRI"
      },
      "source": [
        "#### Printing the categorical variables"
      ]
    },
    {
      "cell_type": "code",
      "execution_count": 111,
      "id": "774ea2d7",
      "metadata": {
        "id": "774ea2d7"
      },
      "outputs": [],
      "source": [
        "def print_unique_col_values(df):\n",
        "       for column in df:\n",
        "            if df[column].dtypes=='object':\n",
        "                print(f'{column}: {df[column].unique()}')"
      ]
    },
    {
      "cell_type": "code",
      "execution_count": 112,
      "id": "26a7af4c",
      "metadata": {
        "id": "26a7af4c",
        "colab": {
          "base_uri": "https://localhost:8080/"
        },
        "outputId": "46a2ef5f-b3c4-4889-98e0-51e9082b5e63"
      },
      "outputs": [
        {
          "output_type": "stream",
          "name": "stdout",
          "text": [
            "Geography: ['France' 'Spain' 'Germany']\n",
            "Gender: ['Female' 'Male']\n"
          ]
        }
      ],
      "source": [
        "print_unique_col_values(df)"
      ]
    },
    {
      "cell_type": "markdown",
      "id": "QidjB-KaFwK6",
      "metadata": {
        "id": "QidjB-KaFwK6"
      },
      "source": [
        "### Label Encoding"
      ]
    },
    {
      "cell_type": "code",
      "execution_count": 113,
      "id": "97c7e8ca",
      "metadata": {
        "id": "97c7e8ca"
      },
      "outputs": [],
      "source": [
        "df['Gender'].replace({'Male': 1,'Female': 0},inplace=True)"
      ]
    },
    {
      "cell_type": "markdown",
      "id": "U3WhJmQaF4qB",
      "metadata": {
        "id": "U3WhJmQaF4qB"
      },
      "source": [
        "### One Hot Encoding "
      ]
    },
    {
      "cell_type": "code",
      "execution_count": 114,
      "id": "d5894756",
      "metadata": {
        "id": "d5894756",
        "colab": {
          "base_uri": "https://localhost:8080/",
          "height": 270
        },
        "outputId": "7dbd8a37-b802-46e1-d1e6-507d7f7b5638"
      },
      "outputs": [
        {
          "output_type": "execute_result",
          "data": {
            "text/plain": [
              "   CreditScore  Gender  Age  Tenure    Balance  NumOfProducts  HasCrCard  \\\n",
              "0          619       0   42       2       0.00              1          1   \n",
              "1          608       0   41       1   83807.86              1          0   \n",
              "2          502       0   42       8  159660.80              3          1   \n",
              "3          699       0   39       1       0.00              2          0   \n",
              "4          850       0   43       2  125510.82              1          1   \n",
              "\n",
              "   IsActiveMember  EstimatedSalary  Exited  BalanceSalaryRatio  TenureByAge  \\\n",
              "0               1        101348.88       1            0.000000     0.047619   \n",
              "1               1        112542.58       0            0.744677     0.024390   \n",
              "2               0        113931.57       1            1.401375     0.190476   \n",
              "3               0         93826.63       0            0.000000     0.025641   \n",
              "4               1         79084.10       0            1.587055     0.046512   \n",
              "\n",
              "   Geography_France  Geography_Germany  Geography_Spain  \n",
              "0                 1                  0                0  \n",
              "1                 0                  0                1  \n",
              "2                 1                  0                0  \n",
              "3                 1                  0                0  \n",
              "4                 0                  0                1  "
            ],
            "text/html": [
              "\n",
              "  <div id=\"df-02f821a4-3239-4ed0-97b1-aa6584536683\">\n",
              "    <div class=\"colab-df-container\">\n",
              "      <div>\n",
              "<style scoped>\n",
              "    .dataframe tbody tr th:only-of-type {\n",
              "        vertical-align: middle;\n",
              "    }\n",
              "\n",
              "    .dataframe tbody tr th {\n",
              "        vertical-align: top;\n",
              "    }\n",
              "\n",
              "    .dataframe thead th {\n",
              "        text-align: right;\n",
              "    }\n",
              "</style>\n",
              "<table border=\"1\" class=\"dataframe\">\n",
              "  <thead>\n",
              "    <tr style=\"text-align: right;\">\n",
              "      <th></th>\n",
              "      <th>CreditScore</th>\n",
              "      <th>Gender</th>\n",
              "      <th>Age</th>\n",
              "      <th>Tenure</th>\n",
              "      <th>Balance</th>\n",
              "      <th>NumOfProducts</th>\n",
              "      <th>HasCrCard</th>\n",
              "      <th>IsActiveMember</th>\n",
              "      <th>EstimatedSalary</th>\n",
              "      <th>Exited</th>\n",
              "      <th>BalanceSalaryRatio</th>\n",
              "      <th>TenureByAge</th>\n",
              "      <th>Geography_France</th>\n",
              "      <th>Geography_Germany</th>\n",
              "      <th>Geography_Spain</th>\n",
              "    </tr>\n",
              "  </thead>\n",
              "  <tbody>\n",
              "    <tr>\n",
              "      <th>0</th>\n",
              "      <td>619</td>\n",
              "      <td>0</td>\n",
              "      <td>42</td>\n",
              "      <td>2</td>\n",
              "      <td>0.00</td>\n",
              "      <td>1</td>\n",
              "      <td>1</td>\n",
              "      <td>1</td>\n",
              "      <td>101348.88</td>\n",
              "      <td>1</td>\n",
              "      <td>0.000000</td>\n",
              "      <td>0.047619</td>\n",
              "      <td>1</td>\n",
              "      <td>0</td>\n",
              "      <td>0</td>\n",
              "    </tr>\n",
              "    <tr>\n",
              "      <th>1</th>\n",
              "      <td>608</td>\n",
              "      <td>0</td>\n",
              "      <td>41</td>\n",
              "      <td>1</td>\n",
              "      <td>83807.86</td>\n",
              "      <td>1</td>\n",
              "      <td>0</td>\n",
              "      <td>1</td>\n",
              "      <td>112542.58</td>\n",
              "      <td>0</td>\n",
              "      <td>0.744677</td>\n",
              "      <td>0.024390</td>\n",
              "      <td>0</td>\n",
              "      <td>0</td>\n",
              "      <td>1</td>\n",
              "    </tr>\n",
              "    <tr>\n",
              "      <th>2</th>\n",
              "      <td>502</td>\n",
              "      <td>0</td>\n",
              "      <td>42</td>\n",
              "      <td>8</td>\n",
              "      <td>159660.80</td>\n",
              "      <td>3</td>\n",
              "      <td>1</td>\n",
              "      <td>0</td>\n",
              "      <td>113931.57</td>\n",
              "      <td>1</td>\n",
              "      <td>1.401375</td>\n",
              "      <td>0.190476</td>\n",
              "      <td>1</td>\n",
              "      <td>0</td>\n",
              "      <td>0</td>\n",
              "    </tr>\n",
              "    <tr>\n",
              "      <th>3</th>\n",
              "      <td>699</td>\n",
              "      <td>0</td>\n",
              "      <td>39</td>\n",
              "      <td>1</td>\n",
              "      <td>0.00</td>\n",
              "      <td>2</td>\n",
              "      <td>0</td>\n",
              "      <td>0</td>\n",
              "      <td>93826.63</td>\n",
              "      <td>0</td>\n",
              "      <td>0.000000</td>\n",
              "      <td>0.025641</td>\n",
              "      <td>1</td>\n",
              "      <td>0</td>\n",
              "      <td>0</td>\n",
              "    </tr>\n",
              "    <tr>\n",
              "      <th>4</th>\n",
              "      <td>850</td>\n",
              "      <td>0</td>\n",
              "      <td>43</td>\n",
              "      <td>2</td>\n",
              "      <td>125510.82</td>\n",
              "      <td>1</td>\n",
              "      <td>1</td>\n",
              "      <td>1</td>\n",
              "      <td>79084.10</td>\n",
              "      <td>0</td>\n",
              "      <td>1.587055</td>\n",
              "      <td>0.046512</td>\n",
              "      <td>0</td>\n",
              "      <td>0</td>\n",
              "      <td>1</td>\n",
              "    </tr>\n",
              "  </tbody>\n",
              "</table>\n",
              "</div>\n",
              "      <button class=\"colab-df-convert\" onclick=\"convertToInteractive('df-02f821a4-3239-4ed0-97b1-aa6584536683')\"\n",
              "              title=\"Convert this dataframe to an interactive table.\"\n",
              "              style=\"display:none;\">\n",
              "        \n",
              "  <svg xmlns=\"http://www.w3.org/2000/svg\" height=\"24px\"viewBox=\"0 0 24 24\"\n",
              "       width=\"24px\">\n",
              "    <path d=\"M0 0h24v24H0V0z\" fill=\"none\"/>\n",
              "    <path d=\"M18.56 5.44l.94 2.06.94-2.06 2.06-.94-2.06-.94-.94-2.06-.94 2.06-2.06.94zm-11 1L8.5 8.5l.94-2.06 2.06-.94-2.06-.94L8.5 2.5l-.94 2.06-2.06.94zm10 10l.94 2.06.94-2.06 2.06-.94-2.06-.94-.94-2.06-.94 2.06-2.06.94z\"/><path d=\"M17.41 7.96l-1.37-1.37c-.4-.4-.92-.59-1.43-.59-.52 0-1.04.2-1.43.59L10.3 9.45l-7.72 7.72c-.78.78-.78 2.05 0 2.83L4 21.41c.39.39.9.59 1.41.59.51 0 1.02-.2 1.41-.59l7.78-7.78 2.81-2.81c.8-.78.8-2.07 0-2.86zM5.41 20L4 18.59l7.72-7.72 1.47 1.35L5.41 20z\"/>\n",
              "  </svg>\n",
              "      </button>\n",
              "      \n",
              "  <style>\n",
              "    .colab-df-container {\n",
              "      display:flex;\n",
              "      flex-wrap:wrap;\n",
              "      gap: 12px;\n",
              "    }\n",
              "\n",
              "    .colab-df-convert {\n",
              "      background-color: #E8F0FE;\n",
              "      border: none;\n",
              "      border-radius: 50%;\n",
              "      cursor: pointer;\n",
              "      display: none;\n",
              "      fill: #1967D2;\n",
              "      height: 32px;\n",
              "      padding: 0 0 0 0;\n",
              "      width: 32px;\n",
              "    }\n",
              "\n",
              "    .colab-df-convert:hover {\n",
              "      background-color: #E2EBFA;\n",
              "      box-shadow: 0px 1px 2px rgba(60, 64, 67, 0.3), 0px 1px 3px 1px rgba(60, 64, 67, 0.15);\n",
              "      fill: #174EA6;\n",
              "    }\n",
              "\n",
              "    [theme=dark] .colab-df-convert {\n",
              "      background-color: #3B4455;\n",
              "      fill: #D2E3FC;\n",
              "    }\n",
              "\n",
              "    [theme=dark] .colab-df-convert:hover {\n",
              "      background-color: #434B5C;\n",
              "      box-shadow: 0px 1px 3px 1px rgba(0, 0, 0, 0.15);\n",
              "      filter: drop-shadow(0px 1px 2px rgba(0, 0, 0, 0.3));\n",
              "      fill: #FFFFFF;\n",
              "    }\n",
              "  </style>\n",
              "\n",
              "      <script>\n",
              "        const buttonEl =\n",
              "          document.querySelector('#df-02f821a4-3239-4ed0-97b1-aa6584536683 button.colab-df-convert');\n",
              "        buttonEl.style.display =\n",
              "          google.colab.kernel.accessAllowed ? 'block' : 'none';\n",
              "\n",
              "        async function convertToInteractive(key) {\n",
              "          const element = document.querySelector('#df-02f821a4-3239-4ed0-97b1-aa6584536683');\n",
              "          const dataTable =\n",
              "            await google.colab.kernel.invokeFunction('convertToInteractive',\n",
              "                                                     [key], {});\n",
              "          if (!dataTable) return;\n",
              "\n",
              "          const docLinkHtml = 'Like what you see? Visit the ' +\n",
              "            '<a target=\"_blank\" href=https://colab.research.google.com/notebooks/data_table.ipynb>data table notebook</a>'\n",
              "            + ' to learn more about interactive tables.';\n",
              "          element.innerHTML = '';\n",
              "          dataTable['output_type'] = 'display_data';\n",
              "          await google.colab.output.renderOutput(dataTable, element);\n",
              "          const docLink = document.createElement('div');\n",
              "          docLink.innerHTML = docLinkHtml;\n",
              "          element.appendChild(docLink);\n",
              "        }\n",
              "      </script>\n",
              "    </div>\n",
              "  </div>\n",
              "  "
            ]
          },
          "metadata": {},
          "execution_count": 114
        }
      ],
      "source": [
        "df1 = pd.get_dummies(data=df, columns=['Geography'])\n",
        "df1.head()"
      ]
    },
    {
      "cell_type": "code",
      "execution_count": 115,
      "id": "fbe387d7",
      "metadata": {
        "id": "fbe387d7"
      },
      "outputs": [],
      "source": [
        "scale_var = ['Tenure','CreditScore','Age','Balance','NumOfProducts','EstimatedSalary']\n",
        "\n",
        "from sklearn.preprocessing import MinMaxScaler\n",
        "scaler = MinMaxScaler()\n",
        "df1[scale_var] = scaler.fit_transform(df1[scale_var])"
      ]
    },
    {
      "cell_type": "code",
      "execution_count": 116,
      "id": "901576ee",
      "metadata": {
        "id": "901576ee",
        "colab": {
          "base_uri": "https://localhost:8080/",
          "height": 270
        },
        "outputId": "6b82b24a-6be3-4369-fa66-3b1a53ee91e1"
      },
      "outputs": [
        {
          "output_type": "execute_result",
          "data": {
            "text/plain": [
              "   CreditScore  Gender       Age  Tenure   Balance  NumOfProducts  HasCrCard  \\\n",
              "0        0.538       0  0.324324     0.2  0.000000       0.000000          1   \n",
              "1        0.516       0  0.310811     0.1  0.334031       0.000000          0   \n",
              "2        0.304       0  0.324324     0.8  0.636357       0.666667          1   \n",
              "3        0.698       0  0.283784     0.1  0.000000       0.333333          0   \n",
              "4        1.000       0  0.337838     0.2  0.500246       0.000000          1   \n",
              "\n",
              "   IsActiveMember  EstimatedSalary  Exited  BalanceSalaryRatio  TenureByAge  \\\n",
              "0               1         0.506735       1            0.000000     0.047619   \n",
              "1               1         0.562709       0            0.744677     0.024390   \n",
              "2               0         0.569654       1            1.401375     0.190476   \n",
              "3               0         0.469120       0            0.000000     0.025641   \n",
              "4               1         0.395400       0            1.587055     0.046512   \n",
              "\n",
              "   Geography_France  Geography_Germany  Geography_Spain  \n",
              "0                 1                  0                0  \n",
              "1                 0                  0                1  \n",
              "2                 1                  0                0  \n",
              "3                 1                  0                0  \n",
              "4                 0                  0                1  "
            ],
            "text/html": [
              "\n",
              "  <div id=\"df-9c099c17-9f20-4b7f-aa35-4c5128444e2d\">\n",
              "    <div class=\"colab-df-container\">\n",
              "      <div>\n",
              "<style scoped>\n",
              "    .dataframe tbody tr th:only-of-type {\n",
              "        vertical-align: middle;\n",
              "    }\n",
              "\n",
              "    .dataframe tbody tr th {\n",
              "        vertical-align: top;\n",
              "    }\n",
              "\n",
              "    .dataframe thead th {\n",
              "        text-align: right;\n",
              "    }\n",
              "</style>\n",
              "<table border=\"1\" class=\"dataframe\">\n",
              "  <thead>\n",
              "    <tr style=\"text-align: right;\">\n",
              "      <th></th>\n",
              "      <th>CreditScore</th>\n",
              "      <th>Gender</th>\n",
              "      <th>Age</th>\n",
              "      <th>Tenure</th>\n",
              "      <th>Balance</th>\n",
              "      <th>NumOfProducts</th>\n",
              "      <th>HasCrCard</th>\n",
              "      <th>IsActiveMember</th>\n",
              "      <th>EstimatedSalary</th>\n",
              "      <th>Exited</th>\n",
              "      <th>BalanceSalaryRatio</th>\n",
              "      <th>TenureByAge</th>\n",
              "      <th>Geography_France</th>\n",
              "      <th>Geography_Germany</th>\n",
              "      <th>Geography_Spain</th>\n",
              "    </tr>\n",
              "  </thead>\n",
              "  <tbody>\n",
              "    <tr>\n",
              "      <th>0</th>\n",
              "      <td>0.538</td>\n",
              "      <td>0</td>\n",
              "      <td>0.324324</td>\n",
              "      <td>0.2</td>\n",
              "      <td>0.000000</td>\n",
              "      <td>0.000000</td>\n",
              "      <td>1</td>\n",
              "      <td>1</td>\n",
              "      <td>0.506735</td>\n",
              "      <td>1</td>\n",
              "      <td>0.000000</td>\n",
              "      <td>0.047619</td>\n",
              "      <td>1</td>\n",
              "      <td>0</td>\n",
              "      <td>0</td>\n",
              "    </tr>\n",
              "    <tr>\n",
              "      <th>1</th>\n",
              "      <td>0.516</td>\n",
              "      <td>0</td>\n",
              "      <td>0.310811</td>\n",
              "      <td>0.1</td>\n",
              "      <td>0.334031</td>\n",
              "      <td>0.000000</td>\n",
              "      <td>0</td>\n",
              "      <td>1</td>\n",
              "      <td>0.562709</td>\n",
              "      <td>0</td>\n",
              "      <td>0.744677</td>\n",
              "      <td>0.024390</td>\n",
              "      <td>0</td>\n",
              "      <td>0</td>\n",
              "      <td>1</td>\n",
              "    </tr>\n",
              "    <tr>\n",
              "      <th>2</th>\n",
              "      <td>0.304</td>\n",
              "      <td>0</td>\n",
              "      <td>0.324324</td>\n",
              "      <td>0.8</td>\n",
              "      <td>0.636357</td>\n",
              "      <td>0.666667</td>\n",
              "      <td>1</td>\n",
              "      <td>0</td>\n",
              "      <td>0.569654</td>\n",
              "      <td>1</td>\n",
              "      <td>1.401375</td>\n",
              "      <td>0.190476</td>\n",
              "      <td>1</td>\n",
              "      <td>0</td>\n",
              "      <td>0</td>\n",
              "    </tr>\n",
              "    <tr>\n",
              "      <th>3</th>\n",
              "      <td>0.698</td>\n",
              "      <td>0</td>\n",
              "      <td>0.283784</td>\n",
              "      <td>0.1</td>\n",
              "      <td>0.000000</td>\n",
              "      <td>0.333333</td>\n",
              "      <td>0</td>\n",
              "      <td>0</td>\n",
              "      <td>0.469120</td>\n",
              "      <td>0</td>\n",
              "      <td>0.000000</td>\n",
              "      <td>0.025641</td>\n",
              "      <td>1</td>\n",
              "      <td>0</td>\n",
              "      <td>0</td>\n",
              "    </tr>\n",
              "    <tr>\n",
              "      <th>4</th>\n",
              "      <td>1.000</td>\n",
              "      <td>0</td>\n",
              "      <td>0.337838</td>\n",
              "      <td>0.2</td>\n",
              "      <td>0.500246</td>\n",
              "      <td>0.000000</td>\n",
              "      <td>1</td>\n",
              "      <td>1</td>\n",
              "      <td>0.395400</td>\n",
              "      <td>0</td>\n",
              "      <td>1.587055</td>\n",
              "      <td>0.046512</td>\n",
              "      <td>0</td>\n",
              "      <td>0</td>\n",
              "      <td>1</td>\n",
              "    </tr>\n",
              "  </tbody>\n",
              "</table>\n",
              "</div>\n",
              "      <button class=\"colab-df-convert\" onclick=\"convertToInteractive('df-9c099c17-9f20-4b7f-aa35-4c5128444e2d')\"\n",
              "              title=\"Convert this dataframe to an interactive table.\"\n",
              "              style=\"display:none;\">\n",
              "        \n",
              "  <svg xmlns=\"http://www.w3.org/2000/svg\" height=\"24px\"viewBox=\"0 0 24 24\"\n",
              "       width=\"24px\">\n",
              "    <path d=\"M0 0h24v24H0V0z\" fill=\"none\"/>\n",
              "    <path d=\"M18.56 5.44l.94 2.06.94-2.06 2.06-.94-2.06-.94-.94-2.06-.94 2.06-2.06.94zm-11 1L8.5 8.5l.94-2.06 2.06-.94-2.06-.94L8.5 2.5l-.94 2.06-2.06.94zm10 10l.94 2.06.94-2.06 2.06-.94-2.06-.94-.94-2.06-.94 2.06-2.06.94z\"/><path d=\"M17.41 7.96l-1.37-1.37c-.4-.4-.92-.59-1.43-.59-.52 0-1.04.2-1.43.59L10.3 9.45l-7.72 7.72c-.78.78-.78 2.05 0 2.83L4 21.41c.39.39.9.59 1.41.59.51 0 1.02-.2 1.41-.59l7.78-7.78 2.81-2.81c.8-.78.8-2.07 0-2.86zM5.41 20L4 18.59l7.72-7.72 1.47 1.35L5.41 20z\"/>\n",
              "  </svg>\n",
              "      </button>\n",
              "      \n",
              "  <style>\n",
              "    .colab-df-container {\n",
              "      display:flex;\n",
              "      flex-wrap:wrap;\n",
              "      gap: 12px;\n",
              "    }\n",
              "\n",
              "    .colab-df-convert {\n",
              "      background-color: #E8F0FE;\n",
              "      border: none;\n",
              "      border-radius: 50%;\n",
              "      cursor: pointer;\n",
              "      display: none;\n",
              "      fill: #1967D2;\n",
              "      height: 32px;\n",
              "      padding: 0 0 0 0;\n",
              "      width: 32px;\n",
              "    }\n",
              "\n",
              "    .colab-df-convert:hover {\n",
              "      background-color: #E2EBFA;\n",
              "      box-shadow: 0px 1px 2px rgba(60, 64, 67, 0.3), 0px 1px 3px 1px rgba(60, 64, 67, 0.15);\n",
              "      fill: #174EA6;\n",
              "    }\n",
              "\n",
              "    [theme=dark] .colab-df-convert {\n",
              "      background-color: #3B4455;\n",
              "      fill: #D2E3FC;\n",
              "    }\n",
              "\n",
              "    [theme=dark] .colab-df-convert:hover {\n",
              "      background-color: #434B5C;\n",
              "      box-shadow: 0px 1px 3px 1px rgba(0, 0, 0, 0.15);\n",
              "      filter: drop-shadow(0px 1px 2px rgba(0, 0, 0, 0.3));\n",
              "      fill: #FFFFFF;\n",
              "    }\n",
              "  </style>\n",
              "\n",
              "      <script>\n",
              "        const buttonEl =\n",
              "          document.querySelector('#df-9c099c17-9f20-4b7f-aa35-4c5128444e2d button.colab-df-convert');\n",
              "        buttonEl.style.display =\n",
              "          google.colab.kernel.accessAllowed ? 'block' : 'none';\n",
              "\n",
              "        async function convertToInteractive(key) {\n",
              "          const element = document.querySelector('#df-9c099c17-9f20-4b7f-aa35-4c5128444e2d');\n",
              "          const dataTable =\n",
              "            await google.colab.kernel.invokeFunction('convertToInteractive',\n",
              "                                                     [key], {});\n",
              "          if (!dataTable) return;\n",
              "\n",
              "          const docLinkHtml = 'Like what you see? Visit the ' +\n",
              "            '<a target=\"_blank\" href=https://colab.research.google.com/notebooks/data_table.ipynb>data table notebook</a>'\n",
              "            + ' to learn more about interactive tables.';\n",
              "          element.innerHTML = '';\n",
              "          dataTable['output_type'] = 'display_data';\n",
              "          await google.colab.output.renderOutput(dataTable, element);\n",
              "          const docLink = document.createElement('div');\n",
              "          docLink.innerHTML = docLinkHtml;\n",
              "          element.appendChild(docLink);\n",
              "        }\n",
              "      </script>\n",
              "    </div>\n",
              "  </div>\n",
              "  "
            ]
          },
          "metadata": {},
          "execution_count": 116
        }
      ],
      "source": [
        "df1.head()"
      ]
    },
    {
      "cell_type": "code",
      "execution_count": 117,
      "id": "a6257db2",
      "metadata": {
        "id": "a6257db2"
      },
      "outputs": [],
      "source": [
        "X = df1.drop('Exited',axis='columns')  ##independent features\n",
        "y = df1['Exited']  ##dependent feature\n",
        "\n",
        "from sklearn.model_selection import train_test_split\n",
        "X_train, X_test, y_train, y_test = train_test_split(X,y,test_size=0.2,random_state=5)"
      ]
    },
    {
      "cell_type": "code",
      "execution_count": 118,
      "id": "91384418",
      "metadata": {
        "id": "91384418",
        "colab": {
          "base_uri": "https://localhost:8080/"
        },
        "outputId": "d1f79afd-8a02-4581-8f1d-0ce476ae762c"
      },
      "outputs": [
        {
          "output_type": "execute_result",
          "data": {
            "text/plain": [
              "14"
            ]
          },
          "metadata": {},
          "execution_count": 118
        }
      ],
      "source": [
        "len(X_train.columns)"
      ]
    },
    {
      "cell_type": "code",
      "execution_count": 119,
      "id": "1e538df3",
      "metadata": {
        "id": "1e538df3",
        "colab": {
          "base_uri": "https://localhost:8080/"
        },
        "outputId": "32c31691-6866-475f-9667-6747c384800f"
      },
      "outputs": [
        {
          "output_type": "stream",
          "name": "stdout",
          "text": [
            "Epoch 1/100\n",
            "250/250 [==============================] - 1s 2ms/step - loss: 0.6729 - accuracy: 0.6865\n",
            "Epoch 2/100\n",
            "250/250 [==============================] - 0s 2ms/step - loss: 0.4859 - accuracy: 0.7959\n",
            "Epoch 3/100\n",
            "250/250 [==============================] - 0s 2ms/step - loss: 0.4730 - accuracy: 0.7960\n",
            "Epoch 4/100\n",
            "250/250 [==============================] - 0s 2ms/step - loss: 0.4767 - accuracy: 0.7944\n",
            "Epoch 5/100\n",
            "250/250 [==============================] - 0s 2ms/step - loss: 0.4736 - accuracy: 0.7922\n",
            "Epoch 6/100\n",
            "250/250 [==============================] - 0s 2ms/step - loss: 0.4658 - accuracy: 0.7940\n",
            "Epoch 7/100\n",
            "250/250 [==============================] - 0s 2ms/step - loss: 0.4526 - accuracy: 0.7979\n",
            "Epoch 8/100\n",
            "250/250 [==============================] - 0s 2ms/step - loss: 0.4436 - accuracy: 0.8061\n",
            "Epoch 9/100\n",
            "250/250 [==============================] - 0s 2ms/step - loss: 0.4340 - accuracy: 0.8112\n",
            "Epoch 10/100\n",
            "250/250 [==============================] - 0s 2ms/step - loss: 0.4285 - accuracy: 0.8170\n",
            "Epoch 11/100\n",
            "250/250 [==============================] - 0s 2ms/step - loss: 0.4265 - accuracy: 0.8185\n",
            "Epoch 12/100\n",
            "250/250 [==============================] - 0s 2ms/step - loss: 0.4247 - accuracy: 0.8209\n",
            "Epoch 13/100\n",
            "250/250 [==============================] - 0s 2ms/step - loss: 0.4224 - accuracy: 0.8195\n",
            "Epoch 14/100\n",
            "250/250 [==============================] - 0s 2ms/step - loss: 0.4200 - accuracy: 0.8232\n",
            "Epoch 15/100\n",
            "250/250 [==============================] - 0s 2ms/step - loss: 0.4162 - accuracy: 0.8264\n",
            "Epoch 16/100\n",
            "250/250 [==============================] - 0s 2ms/step - loss: 0.4114 - accuracy: 0.8269\n",
            "Epoch 17/100\n",
            "250/250 [==============================] - 0s 2ms/step - loss: 0.4067 - accuracy: 0.8284\n",
            "Epoch 18/100\n",
            "250/250 [==============================] - 0s 2ms/step - loss: 0.4050 - accuracy: 0.8321\n",
            "Epoch 19/100\n",
            "250/250 [==============================] - 0s 2ms/step - loss: 0.4008 - accuracy: 0.8317\n",
            "Epoch 20/100\n",
            "250/250 [==============================] - 0s 2ms/step - loss: 0.4132 - accuracy: 0.8300\n",
            "Epoch 21/100\n",
            "250/250 [==============================] - 0s 2ms/step - loss: 0.4165 - accuracy: 0.8310\n",
            "Epoch 22/100\n",
            "250/250 [==============================] - 0s 2ms/step - loss: 0.4144 - accuracy: 0.8310\n",
            "Epoch 23/100\n",
            "250/250 [==============================] - 0s 2ms/step - loss: 0.3901 - accuracy: 0.8347\n",
            "Epoch 24/100\n",
            "250/250 [==============================] - 0s 2ms/step - loss: 0.3852 - accuracy: 0.8359\n",
            "Epoch 25/100\n",
            "250/250 [==============================] - 0s 2ms/step - loss: 0.3829 - accuracy: 0.8385\n",
            "Epoch 26/100\n",
            "250/250 [==============================] - 0s 2ms/step - loss: 0.3812 - accuracy: 0.8374\n",
            "Epoch 27/100\n",
            "250/250 [==============================] - 0s 2ms/step - loss: 0.3793 - accuracy: 0.8381\n",
            "Epoch 28/100\n",
            "250/250 [==============================] - 0s 2ms/step - loss: 0.3754 - accuracy: 0.8425\n",
            "Epoch 29/100\n",
            "250/250 [==============================] - 0s 2ms/step - loss: 0.3758 - accuracy: 0.8406\n",
            "Epoch 30/100\n",
            "250/250 [==============================] - 0s 2ms/step - loss: 0.3729 - accuracy: 0.8411\n",
            "Epoch 31/100\n",
            "250/250 [==============================] - 0s 2ms/step - loss: 0.3715 - accuracy: 0.8424\n",
            "Epoch 32/100\n",
            "250/250 [==============================] - 0s 2ms/step - loss: 0.3698 - accuracy: 0.8431\n",
            "Epoch 33/100\n",
            "250/250 [==============================] - 0s 2ms/step - loss: 0.3670 - accuracy: 0.8466\n",
            "Epoch 34/100\n",
            "250/250 [==============================] - 0s 2ms/step - loss: 0.3640 - accuracy: 0.8490\n",
            "Epoch 35/100\n",
            "250/250 [==============================] - 0s 2ms/step - loss: 0.3608 - accuracy: 0.8511\n",
            "Epoch 36/100\n",
            "250/250 [==============================] - 0s 2ms/step - loss: 0.3598 - accuracy: 0.8521\n",
            "Epoch 37/100\n",
            "250/250 [==============================] - 0s 2ms/step - loss: 0.3600 - accuracy: 0.8543\n",
            "Epoch 38/100\n",
            "250/250 [==============================] - 0s 2ms/step - loss: 0.3568 - accuracy: 0.8534\n",
            "Epoch 39/100\n",
            "250/250 [==============================] - 0s 2ms/step - loss: 0.3558 - accuracy: 0.8534\n",
            "Epoch 40/100\n",
            "250/250 [==============================] - 0s 2ms/step - loss: 0.3558 - accuracy: 0.8570\n",
            "Epoch 41/100\n",
            "250/250 [==============================] - 0s 2ms/step - loss: 0.3529 - accuracy: 0.8570\n",
            "Epoch 42/100\n",
            "250/250 [==============================] - 0s 2ms/step - loss: 0.3529 - accuracy: 0.8560\n",
            "Epoch 43/100\n",
            "250/250 [==============================] - 0s 2ms/step - loss: 0.3500 - accuracy: 0.8572\n",
            "Epoch 44/100\n",
            "250/250 [==============================] - 0s 2ms/step - loss: 0.3484 - accuracy: 0.8568\n",
            "Epoch 45/100\n",
            "250/250 [==============================] - 0s 2ms/step - loss: 0.3477 - accuracy: 0.8587\n",
            "Epoch 46/100\n",
            "250/250 [==============================] - 0s 2ms/step - loss: 0.3576 - accuracy: 0.8566\n",
            "Epoch 47/100\n",
            "250/250 [==============================] - 0s 2ms/step - loss: 0.3513 - accuracy: 0.8576\n",
            "Epoch 48/100\n",
            "250/250 [==============================] - 0s 2ms/step - loss: 0.4119 - accuracy: 0.8556\n",
            "Epoch 49/100\n",
            "250/250 [==============================] - 0s 2ms/step - loss: 0.3634 - accuracy: 0.8568\n",
            "Epoch 50/100\n",
            "250/250 [==============================] - 0s 2ms/step - loss: 0.3446 - accuracy: 0.8625\n",
            "Epoch 51/100\n",
            "250/250 [==============================] - 0s 2ms/step - loss: 0.3444 - accuracy: 0.8604\n",
            "Epoch 52/100\n",
            "250/250 [==============================] - 0s 2ms/step - loss: 0.3452 - accuracy: 0.8609\n",
            "Epoch 53/100\n",
            "250/250 [==============================] - 0s 2ms/step - loss: 0.3419 - accuracy: 0.8612\n",
            "Epoch 54/100\n",
            "250/250 [==============================] - 0s 2ms/step - loss: 0.3426 - accuracy: 0.8615\n",
            "Epoch 55/100\n",
            "250/250 [==============================] - 0s 2ms/step - loss: 0.3428 - accuracy: 0.8602\n",
            "Epoch 56/100\n",
            "250/250 [==============================] - 0s 2ms/step - loss: 0.3396 - accuracy: 0.8636\n",
            "Epoch 57/100\n",
            "250/250 [==============================] - 0s 2ms/step - loss: 0.3410 - accuracy: 0.8622\n",
            "Epoch 58/100\n",
            "250/250 [==============================] - 0s 2ms/step - loss: 0.3425 - accuracy: 0.8621\n",
            "Epoch 59/100\n",
            "250/250 [==============================] - 0s 2ms/step - loss: 0.3402 - accuracy: 0.8644\n",
            "Epoch 60/100\n",
            "250/250 [==============================] - 0s 2ms/step - loss: 0.3647 - accuracy: 0.8605\n",
            "Epoch 61/100\n",
            "250/250 [==============================] - 0s 2ms/step - loss: 0.3506 - accuracy: 0.8594\n",
            "Epoch 62/100\n",
            "250/250 [==============================] - 0s 2ms/step - loss: 0.3424 - accuracy: 0.8606\n",
            "Epoch 63/100\n",
            "250/250 [==============================] - 0s 2ms/step - loss: 0.3404 - accuracy: 0.8624\n",
            "Epoch 64/100\n",
            "250/250 [==============================] - 0s 2ms/step - loss: 0.3414 - accuracy: 0.8624\n",
            "Epoch 65/100\n",
            "250/250 [==============================] - 0s 2ms/step - loss: 0.3393 - accuracy: 0.8615\n",
            "Epoch 66/100\n",
            "250/250 [==============================] - 0s 2ms/step - loss: 0.3389 - accuracy: 0.8633\n",
            "Epoch 67/100\n",
            "250/250 [==============================] - 0s 2ms/step - loss: 0.3388 - accuracy: 0.8620\n",
            "Epoch 68/100\n",
            "250/250 [==============================] - 0s 2ms/step - loss: 0.3392 - accuracy: 0.8619\n",
            "Epoch 69/100\n",
            "250/250 [==============================] - 0s 2ms/step - loss: 0.3380 - accuracy: 0.8646\n",
            "Epoch 70/100\n",
            "250/250 [==============================] - 0s 2ms/step - loss: 0.3394 - accuracy: 0.8634\n",
            "Epoch 71/100\n",
            "250/250 [==============================] - 0s 2ms/step - loss: 0.3384 - accuracy: 0.8615\n",
            "Epoch 72/100\n",
            "250/250 [==============================] - 0s 2ms/step - loss: 0.3381 - accuracy: 0.8616\n",
            "Epoch 73/100\n",
            "250/250 [==============================] - 0s 2ms/step - loss: 0.3387 - accuracy: 0.8627\n",
            "Epoch 74/100\n",
            "250/250 [==============================] - 0s 2ms/step - loss: 0.3380 - accuracy: 0.8618\n",
            "Epoch 75/100\n",
            "250/250 [==============================] - 0s 2ms/step - loss: 0.3378 - accuracy: 0.8635\n",
            "Epoch 76/100\n",
            "250/250 [==============================] - 0s 2ms/step - loss: 0.3389 - accuracy: 0.8609\n",
            "Epoch 77/100\n",
            "250/250 [==============================] - 0s 2ms/step - loss: 0.3373 - accuracy: 0.8616\n",
            "Epoch 78/100\n",
            "250/250 [==============================] - 0s 2ms/step - loss: 0.3368 - accuracy: 0.8650\n",
            "Epoch 79/100\n",
            "250/250 [==============================] - 0s 2ms/step - loss: 0.3363 - accuracy: 0.8633\n",
            "Epoch 80/100\n",
            "250/250 [==============================] - 0s 2ms/step - loss: 0.3364 - accuracy: 0.8606\n",
            "Epoch 81/100\n",
            "250/250 [==============================] - 0s 2ms/step - loss: 0.3425 - accuracy: 0.8609\n",
            "Epoch 82/100\n",
            "250/250 [==============================] - 0s 2ms/step - loss: 0.3427 - accuracy: 0.8602\n",
            "Epoch 83/100\n",
            "250/250 [==============================] - 0s 2ms/step - loss: 0.3371 - accuracy: 0.8604\n",
            "Epoch 84/100\n",
            "250/250 [==============================] - 0s 2ms/step - loss: 0.3354 - accuracy: 0.8625\n",
            "Epoch 85/100\n",
            "250/250 [==============================] - 0s 2ms/step - loss: 0.3352 - accuracy: 0.8626\n",
            "Epoch 86/100\n",
            "250/250 [==============================] - 0s 2ms/step - loss: 0.3353 - accuracy: 0.8629\n",
            "Epoch 87/100\n",
            "250/250 [==============================] - 0s 2ms/step - loss: 0.3352 - accuracy: 0.8602\n",
            "Epoch 88/100\n",
            "250/250 [==============================] - 0s 2ms/step - loss: 0.3359 - accuracy: 0.8635\n",
            "Epoch 89/100\n",
            "250/250 [==============================] - 0s 2ms/step - loss: 0.3344 - accuracy: 0.8619\n",
            "Epoch 90/100\n",
            "250/250 [==============================] - 0s 2ms/step - loss: 0.3354 - accuracy: 0.8621\n",
            "Epoch 91/100\n",
            "250/250 [==============================] - 0s 2ms/step - loss: 0.3334 - accuracy: 0.8625\n",
            "Epoch 92/100\n",
            "250/250 [==============================] - 0s 2ms/step - loss: 0.3338 - accuracy: 0.8627\n",
            "Epoch 93/100\n",
            "250/250 [==============================] - 0s 2ms/step - loss: 0.3348 - accuracy: 0.8630\n",
            "Epoch 94/100\n",
            "250/250 [==============================] - 0s 2ms/step - loss: 0.3354 - accuracy: 0.8631\n",
            "Epoch 95/100\n",
            "250/250 [==============================] - 0s 2ms/step - loss: 0.3340 - accuracy: 0.8625\n",
            "Epoch 96/100\n",
            "250/250 [==============================] - 0s 2ms/step - loss: 0.3333 - accuracy: 0.8634\n",
            "Epoch 97/100\n",
            "250/250 [==============================] - 0s 2ms/step - loss: 0.3335 - accuracy: 0.8633\n",
            "Epoch 98/100\n",
            "250/250 [==============================] - 0s 2ms/step - loss: 0.3345 - accuracy: 0.8604\n",
            "Epoch 99/100\n",
            "250/250 [==============================] - 0s 2ms/step - loss: 0.3340 - accuracy: 0.8637\n",
            "Epoch 100/100\n",
            "250/250 [==============================] - 0s 2ms/step - loss: 0.3336 - accuracy: 0.8625\n"
          ]
        },
        {
          "output_type": "execute_result",
          "data": {
            "text/plain": [
              "<keras.callbacks.History at 0x7facac5c4e50>"
            ]
          },
          "metadata": {},
          "execution_count": 119
        }
      ],
      "source": [
        "import tensorflow as tf\n",
        "from tensorflow import keras\n",
        "\n",
        "\n",
        "model = keras.Sequential([\n",
        "    keras.layers.Dense(16, input_shape=(X_train.shape[1],), activation='relu'),\n",
        "    keras.layers.Dense(8, activation='relu'),\n",
        "    keras.layers.Dense(1, activation='sigmoid')\n",
        "])\n",
        "\n",
        "\n",
        "model.compile(optimizer='adam',\n",
        "              loss='binary_crossentropy',\n",
        "              metrics=['accuracy'])\n",
        "\n",
        "model.fit(X_train, y_train, epochs=100)"
      ]
    },
    {
      "cell_type": "code",
      "execution_count": 120,
      "id": "3bd4bbed",
      "metadata": {
        "id": "3bd4bbed",
        "colab": {
          "base_uri": "https://localhost:8080/"
        },
        "outputId": "9caa92c8-861b-4998-c2c1-eda517593284"
      },
      "outputs": [
        {
          "output_type": "stream",
          "name": "stdout",
          "text": [
            "63/63 [==============================] - 0s 2ms/step - loss: 0.3547 - accuracy: 0.8530\n"
          ]
        },
        {
          "output_type": "execute_result",
          "data": {
            "text/plain": [
              "[0.35466140508651733, 0.8529999852180481]"
            ]
          },
          "metadata": {},
          "execution_count": 120
        }
      ],
      "source": [
        "model.evaluate(X_test, y_test)"
      ]
    },
    {
      "cell_type": "code",
      "execution_count": 121,
      "id": "346f28cb",
      "metadata": {
        "id": "346f28cb",
        "colab": {
          "base_uri": "https://localhost:8080/"
        },
        "outputId": "eb03fbb2-7302-40f3-f6b1-b56dda367d21"
      },
      "outputs": [
        {
          "output_type": "stream",
          "name": "stdout",
          "text": [
            "63/63 [==============================] - 0s 1ms/step\n"
          ]
        },
        {
          "output_type": "execute_result",
          "data": {
            "text/plain": [
              "array([[0.02884333],\n",
              "       [0.09394766],\n",
              "       [0.06890336],\n",
              "       ...,\n",
              "       [0.02251769],\n",
              "       [0.02034748],\n",
              "       [0.08441016]], dtype=float32)"
            ]
          },
          "metadata": {},
          "execution_count": 121
        }
      ],
      "source": [
        "yp = model.predict(X_test)\n",
        "yp"
      ]
    },
    {
      "cell_type": "markdown",
      "id": "ji4g6w6j4ALS",
      "metadata": {
        "id": "ji4g6w6j4ALS"
      },
      "source": [
        "### Converting our predictions to 0,1 to check accuracy"
      ]
    },
    {
      "cell_type": "code",
      "execution_count": 122,
      "id": "jJ7pt3vl3ztm",
      "metadata": {
        "id": "jJ7pt3vl3ztm"
      },
      "outputs": [],
      "source": [
        "y_pred = []\n",
        "for element in yp:\n",
        "    if element > 0.5:\n",
        "        y_pred.append(1)\n",
        "    else:\n",
        "        y_pred.append(0)"
      ]
    },
    {
      "cell_type": "markdown",
      "id": "9g54w4Ba4QMp",
      "metadata": {
        "id": "9g54w4Ba4QMp"
      },
      "source": [
        "### Checking the accuracy "
      ]
    },
    {
      "cell_type": "code",
      "execution_count": 123,
      "id": "9b5cd195",
      "metadata": {
        "id": "9b5cd195",
        "colab": {
          "base_uri": "https://localhost:8080/"
        },
        "outputId": "7a5d272c-0108-408a-d4e0-1494dff7d865"
      },
      "outputs": [
        {
          "output_type": "stream",
          "name": "stdout",
          "text": [
            "              precision    recall  f1-score   support\n",
            "\n",
            "           0       0.88      0.95      0.91      1595\n",
            "           1       0.71      0.47      0.56       405\n",
            "\n",
            "    accuracy                           0.85      2000\n",
            "   macro avg       0.79      0.71      0.74      2000\n",
            "weighted avg       0.84      0.85      0.84      2000\n",
            "\n"
          ]
        }
      ],
      "source": [
        "from sklearn.metrics import confusion_matrix , classification_report\n",
        "\n",
        "print(classification_report(y_test,y_pred))"
      ]
    },
    {
      "cell_type": "code",
      "execution_count": 124,
      "id": "4e691f5e",
      "metadata": {
        "id": "4e691f5e",
        "colab": {
          "base_uri": "https://localhost:8080/",
          "height": 459
        },
        "outputId": "30cf9f57-acee-45b3-bbb6-60d5841efa7a"
      },
      "outputs": [
        {
          "output_type": "execute_result",
          "data": {
            "text/plain": [
              "Text(69.0, 0.5, 'Truth')"
            ]
          },
          "metadata": {},
          "execution_count": 124
        },
        {
          "output_type": "display_data",
          "data": {
            "text/plain": [
              "<Figure size 720x504 with 2 Axes>"
            ],
            "image/png": "[encoded data removed]"
          },
          "metadata": {
            "needs_background": "light"
          }
        }
      ],
      "source": [
        "import seaborn as sn\n",
        "cm = tf.math.confusion_matrix(labels=y_test,predictions=y_pred)\n",
        "\n",
        "plt.figure(figsize = (10,7))\n",
        "sn.heatmap(cm, annot=True, fmt='d')\n",
        "plt.xlabel('Predicted')\n",
        "plt.ylabel('Truth')"
      ]
    },
    {
      "cell_type": "markdown",
      "id": "GNWgGhZ94ziY",
      "metadata": {
        "id": "GNWgGhZ94ziY"
      },
      "source": [
        "# Using Auto ML"
      ]
    },
    {
      "cell_type": "markdown",
      "id": "ZP9_VHaQ415N",
      "metadata": {
        "id": "ZP9_VHaQ415N"
      },
      "source": [
        "#**H2O Auto ML**"
      ]
    },
    {
      "cell_type": "code",
      "execution_count": 125,
      "id": "sey3H2CF5aTp",
      "metadata": {
        "id": "sey3H2CF5aTp",
        "colab": {
          "base_uri": "https://localhost:8080/",
          "height": 385
        },
        "outputId": "fece4d93-e510-4773-a60f-a0bc3f6c2186"
      },
      "outputs": [
        {
          "output_type": "stream",
          "name": "stdout",
          "text": [
            "Checking whether there is an H2O instance running at http://localhost:54321 . connected.\n"
          ]
        },
        {
          "output_type": "display_data",
          "data": {
            "text/plain": [
              "--------------------------  ----------------------------------\n",
              "H2O_cluster_uptime:         8 mins 01 secs\n",
              "H2O_cluster_timezone:       Etc/UTC\n",
              "H2O_data_parsing_timezone:  UTC\n",
              "H2O_cluster_version:        3.38.0.4\n",
              "H2O_cluster_version_age:    14 days, 19 hours and 42 minutes\n",
              "H2O_cluster_name:           H2O_from_python_unknownUser_xoeypz\n",
              "H2O_cluster_total_nodes:    1\n",
              "H2O_cluster_free_memory:    15.98 Gb\n",
              "H2O_cluster_total_cores:    2\n",
              "H2O_cluster_allowed_cores:  2\n",
              "H2O_cluster_status:         locked, healthy\n",
              "H2O_connection_url:         http://localhost:54321\n",
              "H2O_connection_proxy:       {\"http\": null, \"https\": null}\n",
              "H2O_internal_security:      False\n",
              "Python_version:             3.8.10 final\n",
              "--------------------------  ----------------------------------"
            ],
            "text/html": [
              "\n",
              "<style>\n",
              "\n",
              "#h2o-table-6.h2o-container {\n",
              "  overflow-x: auto;\n",
              "}\n",
              "#h2o-table-6 .h2o-table {\n",
              "  /* width: 100%; */\n",
              "  margin-top: 1em;\n",
              "  margin-bottom: 1em;\n",
              "}\n",
              "#h2o-table-6 .h2o-table caption {\n",
              "  white-space: nowrap;\n",
              "  caption-side: top;\n",
              "  text-align: left;\n",
              "  /* margin-left: 1em; */\n",
              "  margin: 0;\n",
              "  font-size: larger;\n",
              "}\n",
              "#h2o-table-6 .h2o-table thead {\n",
              "  white-space: nowrap; \n",
              "  position: sticky;\n",
              "  top: 0;\n",
              "  box-shadow: 0 -1px inset;\n",
              "}\n",
              "#h2o-table-6 .h2o-table tbody {\n",
              "  overflow: auto;\n",
              "}\n",
              "#h2o-table-6 .h2o-table th,\n",
              "#h2o-table-6 .h2o-table td {\n",
              "  text-align: right;\n",
              "  /* border: 1px solid; */\n",
              "}\n",
              "#h2o-table-6 .h2o-table tr:nth-child(even) {\n",
              "  /* background: #F5F5F5 */\n",
              "}\n",
              "\n",
              "</style>      \n",
              "<div id=\"h2o-table-6\" class=\"h2o-container\">\n",
              "  <table class=\"h2o-table\">\n",
              "    <caption></caption>\n",
              "    <thead></thead>\n",
              "    <tbody><tr><td>H2O_cluster_uptime:</td>\n",
              "<td>8 mins 01 secs</td></tr>\n",
              "<tr><td>H2O_cluster_timezone:</td>\n",
              "<td>Etc/UTC</td></tr>\n",
              "<tr><td>H2O_data_parsing_timezone:</td>\n",
              "<td>UTC</td></tr>\n",
              "<tr><td>H2O_cluster_version:</td>\n",
              "<td>3.38.0.4</td></tr>\n",
              "<tr><td>H2O_cluster_version_age:</td>\n",
              "<td>14 days, 19 hours and 42 minutes </td></tr>\n",
              "<tr><td>H2O_cluster_name:</td>\n",
              "<td>H2O_from_python_unknownUser_xoeypz</td></tr>\n",
              "<tr><td>H2O_cluster_total_nodes:</td>\n",
              "<td>1</td></tr>\n",
              "<tr><td>H2O_cluster_free_memory:</td>\n",
              "<td>15.98 Gb</td></tr>\n",
              "<tr><td>H2O_cluster_total_cores:</td>\n",
              "<td>2</td></tr>\n",
              "<tr><td>H2O_cluster_allowed_cores:</td>\n",
              "<td>2</td></tr>\n",
              "<tr><td>H2O_cluster_status:</td>\n",
              "<td>locked, healthy</td></tr>\n",
              "<tr><td>H2O_connection_url:</td>\n",
              "<td>http://localhost:54321</td></tr>\n",
              "<tr><td>H2O_connection_proxy:</td>\n",
              "<td>{\"http\": null, \"https\": null}</td></tr>\n",
              "<tr><td>H2O_internal_security:</td>\n",
              "<td>False</td></tr>\n",
              "<tr><td>Python_version:</td>\n",
              "<td>3.8.10 final</td></tr></tbody>\n",
              "  </table>\n",
              "</div>\n"
            ]
          },
          "metadata": {}
        }
      ],
      "source": [
        "import h2o\n",
        "from h2o.automl import H2OAutoML\n",
        "h2o.init(max_mem_size='16G')  ##  the h2o.init() makes sure that no prior instance of H2O is running."
      ]
    },
    {
      "cell_type": "markdown",
      "id": "zcv3g6Tn6F6W",
      "metadata": {
        "id": "zcv3g6Tn6F6W"
      },
      "source": [
        "### Loading the data"
      ]
    },
    {
      "cell_type": "code",
      "execution_count": 126,
      "id": "m34UT5ej5wl-",
      "metadata": {
        "id": "m34UT5ej5wl-",
        "colab": {
          "base_uri": "https://localhost:8080/"
        },
        "outputId": "391b9262-c205-44da-e214-7cba962a5ff9"
      },
      "outputs": [
        {
          "output_type": "stream",
          "name": "stdout",
          "text": [
            "Parse progress: |████████████████████████████████████████████████████████████████| (done) 100%\n"
          ]
        }
      ],
      "source": [
        "df = h2o.import_file(\"/content/Churn_Modelling.csv\")"
      ]
    },
    {
      "cell_type": "code",
      "execution_count": 127,
      "id": "Gmodc0gJ6M9y",
      "metadata": {
        "id": "Gmodc0gJ6M9y",
        "colab": {
          "base_uri": "https://localhost:8080/",
          "height": 389
        },
        "outputId": "3aa86dad-a2b5-42e9-e0c6-b923c2e473bd"
      },
      "outputs": [
        {
          "output_type": "execute_result",
          "data": {
            "text/plain": [
              "  RowNumber    CustomerId  Surname      CreditScore  Geography    Gender      Age    Tenure    Balance    NumOfProducts    HasCrCard    IsActiveMember    EstimatedSalary    Exited\n",
              "-----------  ------------  ---------  -------------  -----------  --------  -----  --------  ---------  ---------------  -----------  ----------------  -----------------  --------\n",
              "          1   1.56346e+07  Hargrave             619  France       Female       42         2        0                  1            1                 1           101349           1\n",
              "          2   1.56473e+07  Hill                 608  Spain        Female       41         1    83807.9                1            0                 1           112543           0\n",
              "          3   1.56193e+07  Onio                 502  France       Female       42         8   159661                  3            1                 0           113932           1\n",
              "          4   1.57014e+07  Boni                 699  France       Female       39         1        0                  2            0                 0            93826.6         0\n",
              "          5   1.57379e+07  Mitchell             850  Spain        Female       43         2   125511                  1            1                 1            79084.1         0\n",
              "          6   1.5574e+07   Chu                  645  Spain        Male         44         8   113756                  2            1                 0           149757           1\n",
              "          7   1.55925e+07  Bartlett             822  France       Male         50         7        0                  2            1                 1            10062.8         0\n",
              "          8   1.56561e+07  Obinna               376  Germany      Female       29         4   115047                  4            1                 0           119347           1\n",
              "          9   1.57924e+07  He                   501  France       Male         44         4   142051                  2            0                 1            74940.5         0\n",
              "         10   1.55924e+07  H?                   684  France       Male         27         2   134604                  1            1                 1            71725.7         0\n",
              "[10 rows x 14 columns]\n"
            ],
            "text/html": [
              "<table class='dataframe'>\n",
              "<thead>\n",
              "<tr><th style=\"text-align: right;\">  RowNumber</th><th style=\"text-align: right;\">  CustomerId</th><th>Surname  </th><th style=\"text-align: right;\">  CreditScore</th><th>Geography  </th><th>Gender  </th><th style=\"text-align: right;\">  Age</th><th style=\"text-align: right;\">  Tenure</th><th style=\"text-align: right;\">  Balance</th><th style=\"text-align: right;\">  NumOfProducts</th><th style=\"text-align: right;\">  HasCrCard</th><th style=\"text-align: right;\">  IsActiveMember</th><th style=\"text-align: right;\">  EstimatedSalary</th><th style=\"text-align: right;\">  Exited</th></tr>\n",
              "</thead>\n",
              "<tbody>\n",
              "<tr><td style=\"text-align: right;\">          1</td><td style=\"text-align: right;\"> 1.56346e+07</td><td>Hargrave </td><td style=\"text-align: right;\">          619</td><td>France     </td><td>Female  </td><td style=\"text-align: right;\">   42</td><td style=\"text-align: right;\">       2</td><td style=\"text-align: right;\">      0  </td><td style=\"text-align: right;\">              1</td><td style=\"text-align: right;\">          1</td><td style=\"text-align: right;\">               1</td><td style=\"text-align: right;\">         101349  </td><td style=\"text-align: right;\">       1</td></tr>\n",
              "<tr><td style=\"text-align: right;\">          2</td><td style=\"text-align: right;\"> 1.56473e+07</td><td>Hill     </td><td style=\"text-align: right;\">          608</td><td>Spain      </td><td>Female  </td><td style=\"text-align: right;\">   41</td><td style=\"text-align: right;\">       1</td><td style=\"text-align: right;\">  83807.9</td><td style=\"text-align: right;\">              1</td><td style=\"text-align: right;\">          0</td><td style=\"text-align: right;\">               1</td><td style=\"text-align: right;\">         112543  </td><td style=\"text-align: right;\">       0</td></tr>\n",
              "<tr><td style=\"text-align: right;\">          3</td><td style=\"text-align: right;\"> 1.56193e+07</td><td>Onio     </td><td style=\"text-align: right;\">          502</td><td>France     </td><td>Female  </td><td style=\"text-align: right;\">   42</td><td style=\"text-align: right;\">       8</td><td style=\"text-align: right;\"> 159661  </td><td style=\"text-align: right;\">              3</td><td style=\"text-align: right;\">          1</td><td style=\"text-align: right;\">               0</td><td style=\"text-align: right;\">         113932  </td><td style=\"text-align: right;\">       1</td></tr>\n",
              "<tr><td style=\"text-align: right;\">          4</td><td style=\"text-align: right;\"> 1.57014e+07</td><td>Boni     </td><td style=\"text-align: right;\">          699</td><td>France     </td><td>Female  </td><td style=\"text-align: right;\">   39</td><td style=\"text-align: right;\">       1</td><td style=\"text-align: right;\">      0  </td><td style=\"text-align: right;\">              2</td><td style=\"text-align: right;\">          0</td><td style=\"text-align: right;\">               0</td><td style=\"text-align: right;\">          93826.6</td><td style=\"text-align: right;\">       0</td></tr>\n",
              "<tr><td style=\"text-align: right;\">          5</td><td style=\"text-align: right;\"> 1.57379e+07</td><td>Mitchell </td><td style=\"text-align: right;\">          850</td><td>Spain      </td><td>Female  </td><td style=\"text-align: right;\">   43</td><td style=\"text-align: right;\">       2</td><td style=\"text-align: right;\"> 125511  </td><td style=\"text-align: right;\">              1</td><td style=\"text-align: right;\">          1</td><td style=\"text-align: right;\">               1</td><td style=\"text-align: right;\">          79084.1</td><td style=\"text-align: right;\">       0</td></tr>\n",
              "<tr><td style=\"text-align: right;\">          6</td><td style=\"text-align: right;\"> 1.5574e+07 </td><td>Chu      </td><td style=\"text-align: right;\">          645</td><td>Spain      </td><td>Male    </td><td style=\"text-align: right;\">   44</td><td style=\"text-align: right;\">       8</td><td style=\"text-align: right;\"> 113756  </td><td style=\"text-align: right;\">              2</td><td style=\"text-align: right;\">          1</td><td style=\"text-align: right;\">               0</td><td style=\"text-align: right;\">         149757  </td><td style=\"text-align: right;\">       1</td></tr>\n",
              "<tr><td style=\"text-align: right;\">          7</td><td style=\"text-align: right;\"> 1.55925e+07</td><td>Bartlett </td><td style=\"text-align: right;\">          822</td><td>France     </td><td>Male    </td><td style=\"text-align: right;\">   50</td><td style=\"text-align: right;\">       7</td><td style=\"text-align: right;\">      0  </td><td style=\"text-align: right;\">              2</td><td style=\"text-align: right;\">          1</td><td style=\"text-align: right;\">               1</td><td style=\"text-align: right;\">          10062.8</td><td style=\"text-align: right;\">       0</td></tr>\n",
              "<tr><td style=\"text-align: right;\">          8</td><td style=\"text-align: right;\"> 1.56561e+07</td><td>Obinna   </td><td style=\"text-align: right;\">          376</td><td>Germany    </td><td>Female  </td><td style=\"text-align: right;\">   29</td><td style=\"text-align: right;\">       4</td><td style=\"text-align: right;\"> 115047  </td><td style=\"text-align: right;\">              4</td><td style=\"text-align: right;\">          1</td><td style=\"text-align: right;\">               0</td><td style=\"text-align: right;\">         119347  </td><td style=\"text-align: right;\">       1</td></tr>\n",
              "<tr><td style=\"text-align: right;\">          9</td><td style=\"text-align: right;\"> 1.57924e+07</td><td>He       </td><td style=\"text-align: right;\">          501</td><td>France     </td><td>Male    </td><td style=\"text-align: right;\">   44</td><td style=\"text-align: right;\">       4</td><td style=\"text-align: right;\"> 142051  </td><td style=\"text-align: right;\">              2</td><td style=\"text-align: right;\">          0</td><td style=\"text-align: right;\">               1</td><td style=\"text-align: right;\">          74940.5</td><td style=\"text-align: right;\">       0</td></tr>\n",
              "<tr><td style=\"text-align: right;\">         10</td><td style=\"text-align: right;\"> 1.55924e+07</td><td>H?       </td><td style=\"text-align: right;\">          684</td><td>France     </td><td>Male    </td><td style=\"text-align: right;\">   27</td><td style=\"text-align: right;\">       2</td><td style=\"text-align: right;\"> 134604  </td><td style=\"text-align: right;\">              1</td><td style=\"text-align: right;\">          1</td><td style=\"text-align: right;\">               1</td><td style=\"text-align: right;\">          71725.7</td><td style=\"text-align: right;\">       0</td></tr>\n",
              "</tbody>\n",
              "</table><pre style='font-size: smaller; margin-bottom: 1em;'>[10 rows x 14 columns]</pre>"
            ]
          },
          "metadata": {},
          "execution_count": 127
        }
      ],
      "source": [
        "df.head()"
      ]
    },
    {
      "cell_type": "markdown",
      "id": "arxKjzX1794d",
      "metadata": {
        "id": "arxKjzX1794d"
      },
      "source": [
        "## H2O auto ml can do all the data preprocessing techniques"
      ]
    },
    {
      "cell_type": "code",
      "execution_count": 128,
      "id": "e22RmkS56PE1",
      "metadata": {
        "id": "e22RmkS56PE1"
      },
      "outputs": [],
      "source": [
        "df_train,df_test= df.split_frame(ratios=[.8])"
      ]
    },
    {
      "cell_type": "markdown",
      "id": "Pm5jd8OF9obY",
      "metadata": {
        "id": "Pm5jd8OF9obY"
      },
      "source": [
        "### Splitting the data"
      ]
    },
    {
      "cell_type": "code",
      "execution_count": 129,
      "id": "FWSaqyYq8QGY",
      "metadata": {
        "id": "FWSaqyYq8QGY",
        "colab": {
          "base_uri": "https://localhost:8080/",
          "height": 389
        },
        "outputId": "9d5a6d7a-fd7e-4b92-efd0-99c8851428bd"
      },
      "outputs": [
        {
          "output_type": "execute_result",
          "data": {
            "text/plain": [
              "  RowNumber    CustomerId  Surname      CreditScore  Geography    Gender      Age    Tenure    Balance    NumOfProducts    HasCrCard    IsActiveMember    EstimatedSalary    Exited\n",
              "-----------  ------------  ---------  -------------  -----------  --------  -----  --------  ---------  ---------------  -----------  ----------------  -----------------  --------\n",
              "          1   1.56346e+07  Hargrave             619  France       Female       42         2        0                  1            1                 1           101349           1\n",
              "          2   1.56473e+07  Hill                 608  Spain        Female       41         1    83807.9                1            0                 1           112543           0\n",
              "          3   1.56193e+07  Onio                 502  France       Female       42         8   159661                  3            1                 0           113932           1\n",
              "          4   1.57014e+07  Boni                 699  France       Female       39         1        0                  2            0                 0            93826.6         0\n",
              "          5   1.57379e+07  Mitchell             850  Spain        Female       43         2   125511                  1            1                 1            79084.1         0\n",
              "          7   1.55925e+07  Bartlett             822  France       Male         50         7        0                  2            1                 1            10062.8         0\n",
              "          8   1.56561e+07  Obinna               376  Germany      Female       29         4   115047                  4            1                 0           119347           1\n",
              "          9   1.57924e+07  He                   501  France       Male         44         4   142051                  2            0                 1            74940.5         0\n",
              "         10   1.55924e+07  H?                   684  France       Male         27         2   134604                  1            1                 1            71725.7         0\n",
              "         11   1.57678e+07  Bearce               528  France       Male         31         6   102017                  2            0                 0            80181.1         0\n",
              "[7991 rows x 14 columns]\n"
            ],
            "text/html": [
              "<table class='dataframe'>\n",
              "<thead>\n",
              "<tr><th style=\"text-align: right;\">  RowNumber</th><th style=\"text-align: right;\">  CustomerId</th><th>Surname  </th><th style=\"text-align: right;\">  CreditScore</th><th>Geography  </th><th>Gender  </th><th style=\"text-align: right;\">  Age</th><th style=\"text-align: right;\">  Tenure</th><th style=\"text-align: right;\">  Balance</th><th style=\"text-align: right;\">  NumOfProducts</th><th style=\"text-align: right;\">  HasCrCard</th><th style=\"text-align: right;\">  IsActiveMember</th><th style=\"text-align: right;\">  EstimatedSalary</th><th style=\"text-align: right;\">  Exited</th></tr>\n",
              "</thead>\n",
              "<tbody>\n",
              "<tr><td style=\"text-align: right;\">          1</td><td style=\"text-align: right;\"> 1.56346e+07</td><td>Hargrave </td><td style=\"text-align: right;\">          619</td><td>France     </td><td>Female  </td><td style=\"text-align: right;\">   42</td><td style=\"text-align: right;\">       2</td><td style=\"text-align: right;\">      0  </td><td style=\"text-align: right;\">              1</td><td style=\"text-align: right;\">          1</td><td style=\"text-align: right;\">               1</td><td style=\"text-align: right;\">         101349  </td><td style=\"text-align: right;\">       1</td></tr>\n",
              "<tr><td style=\"text-align: right;\">          2</td><td style=\"text-align: right;\"> 1.56473e+07</td><td>Hill     </td><td style=\"text-align: right;\">          608</td><td>Spain      </td><td>Female  </td><td style=\"text-align: right;\">   41</td><td style=\"text-align: right;\">       1</td><td style=\"text-align: right;\">  83807.9</td><td style=\"text-align: right;\">              1</td><td style=\"text-align: right;\">          0</td><td style=\"text-align: right;\">               1</td><td style=\"text-align: right;\">         112543  </td><td style=\"text-align: right;\">       0</td></tr>\n",
              "<tr><td style=\"text-align: right;\">          3</td><td style=\"text-align: right;\"> 1.56193e+07</td><td>Onio     </td><td style=\"text-align: right;\">          502</td><td>France     </td><td>Female  </td><td style=\"text-align: right;\">   42</td><td style=\"text-align: right;\">       8</td><td style=\"text-align: right;\"> 159661  </td><td style=\"text-align: right;\">              3</td><td style=\"text-align: right;\">          1</td><td style=\"text-align: right;\">               0</td><td style=\"text-align: right;\">         113932  </td><td style=\"text-align: right;\">       1</td></tr>\n",
              "<tr><td style=\"text-align: right;\">          4</td><td style=\"text-align: right;\"> 1.57014e+07</td><td>Boni     </td><td style=\"text-align: right;\">          699</td><td>France     </td><td>Female  </td><td style=\"text-align: right;\">   39</td><td style=\"text-align: right;\">       1</td><td style=\"text-align: right;\">      0  </td><td style=\"text-align: right;\">              2</td><td style=\"text-align: right;\">          0</td><td style=\"text-align: right;\">               0</td><td style=\"text-align: right;\">          93826.6</td><td style=\"text-align: right;\">       0</td></tr>\n",
              "<tr><td style=\"text-align: right;\">          5</td><td style=\"text-align: right;\"> 1.57379e+07</td><td>Mitchell </td><td style=\"text-align: right;\">          850</td><td>Spain      </td><td>Female  </td><td style=\"text-align: right;\">   43</td><td style=\"text-align: right;\">       2</td><td style=\"text-align: right;\"> 125511  </td><td style=\"text-align: right;\">              1</td><td style=\"text-align: right;\">          1</td><td style=\"text-align: right;\">               1</td><td style=\"text-align: right;\">          79084.1</td><td style=\"text-align: right;\">       0</td></tr>\n",
              "<tr><td style=\"text-align: right;\">          7</td><td style=\"text-align: right;\"> 1.55925e+07</td><td>Bartlett </td><td style=\"text-align: right;\">          822</td><td>France     </td><td>Male    </td><td style=\"text-align: right;\">   50</td><td style=\"text-align: right;\">       7</td><td style=\"text-align: right;\">      0  </td><td style=\"text-align: right;\">              2</td><td style=\"text-align: right;\">          1</td><td style=\"text-align: right;\">               1</td><td style=\"text-align: right;\">          10062.8</td><td style=\"text-align: right;\">       0</td></tr>\n",
              "<tr><td style=\"text-align: right;\">          8</td><td style=\"text-align: right;\"> 1.56561e+07</td><td>Obinna   </td><td style=\"text-align: right;\">          376</td><td>Germany    </td><td>Female  </td><td style=\"text-align: right;\">   29</td><td style=\"text-align: right;\">       4</td><td style=\"text-align: right;\"> 115047  </td><td style=\"text-align: right;\">              4</td><td style=\"text-align: right;\">          1</td><td style=\"text-align: right;\">               0</td><td style=\"text-align: right;\">         119347  </td><td style=\"text-align: right;\">       1</td></tr>\n",
              "<tr><td style=\"text-align: right;\">          9</td><td style=\"text-align: right;\"> 1.57924e+07</td><td>He       </td><td style=\"text-align: right;\">          501</td><td>France     </td><td>Male    </td><td style=\"text-align: right;\">   44</td><td style=\"text-align: right;\">       4</td><td style=\"text-align: right;\"> 142051  </td><td style=\"text-align: right;\">              2</td><td style=\"text-align: right;\">          0</td><td style=\"text-align: right;\">               1</td><td style=\"text-align: right;\">          74940.5</td><td style=\"text-align: right;\">       0</td></tr>\n",
              "<tr><td style=\"text-align: right;\">         10</td><td style=\"text-align: right;\"> 1.55924e+07</td><td>H?       </td><td style=\"text-align: right;\">          684</td><td>France     </td><td>Male    </td><td style=\"text-align: right;\">   27</td><td style=\"text-align: right;\">       2</td><td style=\"text-align: right;\"> 134604  </td><td style=\"text-align: right;\">              1</td><td style=\"text-align: right;\">          1</td><td style=\"text-align: right;\">               1</td><td style=\"text-align: right;\">          71725.7</td><td style=\"text-align: right;\">       0</td></tr>\n",
              "<tr><td style=\"text-align: right;\">         11</td><td style=\"text-align: right;\"> 1.57678e+07</td><td>Bearce   </td><td style=\"text-align: right;\">          528</td><td>France     </td><td>Male    </td><td style=\"text-align: right;\">   31</td><td style=\"text-align: right;\">       6</td><td style=\"text-align: right;\"> 102017  </td><td style=\"text-align: right;\">              2</td><td style=\"text-align: right;\">          0</td><td style=\"text-align: right;\">               0</td><td style=\"text-align: right;\">          80181.1</td><td style=\"text-align: right;\">       0</td></tr>\n",
              "</tbody>\n",
              "</table><pre style='font-size: smaller; margin-bottom: 1em;'>[7991 rows x 14 columns]</pre>"
            ]
          },
          "metadata": {},
          "execution_count": 129
        }
      ],
      "source": [
        "df_train"
      ]
    },
    {
      "cell_type": "code",
      "execution_count": 130,
      "id": "S_40w_OB9hPU",
      "metadata": {
        "id": "S_40w_OB9hPU"
      },
      "outputs": [],
      "source": [
        "y = \"Exited\"  ## dependent variable\n",
        "x = df.columns  ## Independent variable\n",
        "x.remove(y)\n",
        "x.remove('CustomerId')\n",
        "x.remove('RowNumber')\n",
        "x.remove('Surname')"
      ]
    },
    {
      "cell_type": "markdown",
      "id": "JgR6tAbC-OpD",
      "metadata": {
        "id": "JgR6tAbC-OpD"
      },
      "source": [
        "### Defining the model"
      ]
    },
    {
      "cell_type": "code",
      "execution_count": 131,
      "id": "yqDUhVtp9xrW",
      "metadata": {
        "id": "yqDUhVtp9xrW"
      },
      "outputs": [],
      "source": [
        "aml = H2OAutoML(max_runtime_secs=300,max_models = 10, seed = 10, verbosity=\"info\", nfolds=2)"
      ]
    },
    {
      "cell_type": "markdown",
      "id": "CWfHLUuC-gH0",
      "metadata": {
        "id": "CWfHLUuC-gH0"
      },
      "source": [
        "### Fitting the model"
      ]
    },
    {
      "cell_type": "code",
      "execution_count": 132,
      "id": "nRE7PN8h-Y_V",
      "metadata": {
        "id": "nRE7PN8h-Y_V",
        "colab": {
          "base_uri": "https://localhost:8080/",
          "height": 1000
        },
        "outputId": "019d55e3-36f0-45bd-c941-22c19f813b1a"
      },
      "outputs": [
        {
          "output_type": "stream",
          "name": "stdout",
          "text": [
            "AutoML progress: |\n",
            "13:09:11.659: Project: AutoML_3_20230120_130911\n",
            "13:09:11.660: Setting stopping tolerance adaptively based on the training frame: 0.011186634139959345\n",
            "13:09:11.660: Build control seed: 10\n",
            "13:09:11.661: training frame: Frame key: AutoML_3_20230120_130911_training_py_15_sid_810e    cols: 14    rows: 7991  chunks: 8    size: 425580  checksum: 2479989488683105434\n",
            "13:09:11.661: validation frame: NULL\n",
            "13:09:11.661: leaderboard frame: NULL\n",
            "13:09:11.661: blending frame: NULL\n",
            "13:09:11.661: response column: Exited\n",
            "13:09:11.661: fold column: null\n",
            "13:09:11.661: weights column: null\n",
            "13:09:11.664: Loading execution steps: [{XGBoost : [def_2 (1g, 10w), def_1 (2g, 10w), def_3 (3g, 10w), grid_1 (4g, 90w), lr_search (7g, 30w)]}, {GLM : [def_1 (1g, 10w)]}, {DRF : [def_1 (2g, 10w), XRT (3g, 10w)]}, {GBM : [def_5 (1g, 10w), def_2 (2g, 10w), def_3 (2g, 10w), def_4 (2g, 10w), def_1 (3g, 10w), grid_1 (4g, 60w), lr_annealing (7g, 10w)]}, {DeepLearning : [def_1 (3g, 10w), grid_1 (4g, 30w), grid_2 (5g, 30w), grid_3 (5g, 30w)]}, {completion : [resume_best_grids (6g, 60w)]}, {StackedEnsemble : [monotonic (9g, 10w), best_of_family_xglm (10g, 10w), all_xglm (10g, 10w)]}]\n",
            "13:09:11.671: AutoML job created: 2023.01.20 13:09:11.658\n",
            "13:09:11.671: AutoML build started: 2023.01.20 13:09:11.671\n",
            "13:09:11.673: AutoML: starting XGBoost_1_AutoML_3_20230120_130911 model training\n",
            "13:09:11.674: _response param, We have detected that your response column has only 2 unique values (0/1). If you wish to train a binary model instead of a regression model, convert your target column to categorical before training.\n",
            "\n",
            "█\n",
            "13:09:15.25: New leader: XGBoost_1_AutoML_3_20230120_130911, rmse: 0.3580969562596556\n",
            "13:09:15.27: AutoML: starting GLM_1_AutoML_3_20230120_130911 model training\n",
            "13:09:15.28: _response param, We have detected that your response column has only 2 unique values (0/1). If you wish to train a binary model instead of a regression model, convert your target column to categorical before training.\n",
            "13:09:15.711: AutoML: starting GBM_1_AutoML_3_20230120_130911 model training\n",
            "13:09:15.711: _response param, We have detected that your response column has only 2 unique values (0/1). If you wish to train a binary model instead of a regression model, convert your target column to categorical before training.\n",
            "\n",
            "██\n",
            "13:09:18.989: New leader: GBM_1_AutoML_3_20230120_130911, rmse: 0.32284131768390634\n",
            "13:09:18.991: AutoML: starting XGBoost_2_AutoML_3_20230120_130911 model training\n",
            "13:09:18.991: _response param, We have detected that your response column has only 2 unique values (0/1). If you wish to train a binary model instead of a regression model, convert your target column to categorical before training.\n",
            "\n",
            "██\n",
            "13:09:21.531: AutoML: starting DRF_1_AutoML_3_20230120_130911 model training\n",
            "13:09:21.531: _response param, We have detected that your response column has only 2 unique values (0/1). If you wish to train a binary model instead of a regression model, convert your target column to categorical before training.\n",
            "\n",
            "███\n",
            "13:09:27.948: AutoML: starting GBM_2_AutoML_3_20230120_130911 model training\n",
            "13:09:27.948: _response param, We have detected that your response column has only 2 unique values (0/1). If you wish to train a binary model instead of a regression model, convert your target column to categorical before training.\n",
            "\n",
            "\n",
            "13:09:30.196: New leader: GBM_2_AutoML_3_20230120_130911, rmse: 0.321119786989049\n",
            "13:09:30.197: AutoML: starting GBM_3_AutoML_3_20230120_130911 model training\n",
            "13:09:30.197: _response param, We have detected that your response column has only 2 unique values (0/1). If you wish to train a binary model instead of a regression model, convert your target column to categorical before training.\n",
            "\n",
            "█\n",
            "13:09:32.698: AutoML: starting GBM_4_AutoML_3_20230120_130911 model training\n",
            "13:09:32.698: _response param, We have detected that your response column has only 2 unique values (0/1). If you wish to train a binary model instead of a regression model, convert your target column to categorical before training.\n",
            "\n",
            "█\n",
            "13:09:35.550: AutoML: starting XGBoost_3_AutoML_3_20230120_130911 model training\n",
            "13:09:35.550: _response param, We have detected that your response column has only 2 unique values (0/1). If you wish to train a binary model instead of a regression model, convert your target column to categorical before training.\n",
            "\n",
            "█\n",
            "13:09:37.193: AutoML: starting XRT_1_AutoML_3_20230120_130911 model training\n",
            "13:09:37.198: _response param, We have detected that your response column has only 2 unique values (0/1). If you wish to train a binary model instead of a regression model, convert your target column to categorical before training.\n",
            "\n",
            "███\n",
            "13:09:42.611: No base models, due to timeouts or the exclude_algos option. Skipping StackedEnsemble 'monotonic'.\n",
            "13:09:42.617: AutoML: starting StackedEnsemble_BestOfFamily_1_AutoML_3_20230120_130911 model training\n",
            "13:09:42.618: _response param, We have detected that your response column has only 2 unique values (0/1). If you wish to train a binary model instead of a regression model, convert your target column to categorical before training.\n",
            "13:09:43.732: New leader: StackedEnsemble_BestOfFamily_1_AutoML_3_20230120_130911, rmse: 0.32039825805090294\n",
            "13:09:43.737: AutoML: starting StackedEnsemble_AllModels_1_AutoML_3_20230120_130911 model training\n",
            "13:09:43.744: _response param, We have detected that your response column has only 2 unique values (0/1). If you wish to train a binary model instead of a regression model, convert your target column to categorical before training.\n",
            "\n",
            "█████████████████████████████████████████████████| (done) 100%\n",
            "\n",
            "13:09:45.404: New leader: StackedEnsemble_AllModels_1_AutoML_3_20230120_130911, rmse: 0.3196881790758361\n",
            "13:09:45.404: Actual modeling steps: [{XGBoost : [def_2 (1g, 10w)]}, {GLM : [def_1 (1g, 10w)]}, {GBM : [def_5 (1g, 10w)]}, {XGBoost : [def_1 (2g, 10w)]}, {DRF : [def_1 (2g, 10w)]}, {GBM : [def_2 (2g, 10w), def_3 (2g, 10w), def_4 (2g, 10w)]}, {XGBoost : [def_3 (3g, 10w)]}, {DRF : [XRT (3g, 10w)]}, {StackedEnsemble : [best_of_family_xglm (10g, 10w), all_xglm (10g, 10w)]}]\n",
            "13:09:45.404: AutoML build stopped: 2023.01.20 13:09:45.404\n",
            "13:09:45.404: AutoML build done: built 10 models\n",
            "13:09:45.404: AutoML duration: 33.733 sec\n",
            "\n"
          ]
        },
        {
          "output_type": "execute_result",
          "data": {
            "text/plain": [
              "Model Details\n",
              "=============\n",
              "H2OStackedEnsembleEstimator : Stacked Ensemble\n",
              "Model Key: StackedEnsemble_AllModels_1_AutoML_3_20230120_130911\n",
              "\n",
              "No summary for this model\n",
              "\n",
              "ModelMetricsRegressionGLM: stackedensemble\n",
              "** Reported on train data. **\n",
              "\n",
              "MSE: 0.07201947732872187\n",
              "RMSE: 0.2683644487049689\n",
              "MAE: 0.1711155092857022\n",
              "RMSLE: 0.18625441113079075\n",
              "Mean Residual Deviance: 0.07201947732872187\n",
              "R^2: 0.5513080523808869\n",
              "Null degrees of freedom: 7990\n",
              "Residual degrees of freedom: 7984\n",
              "Null deviance: 1282.6342134901495\n",
              "Residual deviance: 575.5076433338164\n",
              "AIC: 1670.6035810188882\n",
              "\n",
              "ModelMetricsRegressionGLM: stackedensemble\n",
              "** Reported on cross-validation data. **\n",
              "\n",
              "MSE: 0.10220053184082385\n",
              "RMSE: 0.3196881790758361\n",
              "MAE: 0.20894369206709815\n",
              "RMSLE: 0.224727503228789\n",
              "Mean Residual Deviance: 0.10220053184082385\n",
              "R^2: 0.36327563903215776\n",
              "Null degrees of freedom: 7990\n",
              "Residual degrees of freedom: 7984\n",
              "Null deviance: 1282.7412763767238\n",
              "Residual deviance: 816.6844499400235\n",
              "AIC: 4467.455824819874\n",
              "\n",
              "Cross-Validation Metrics Summary: \n",
              "                        mean      sd           cv_1_valid    cv_2_valid\n",
              "----------------------  --------  -----------  ------------  ------------\n",
              "mae                     0.209146  0.000809969  0.209719      0.208573\n",
              "mean_residual_deviance  0.102202  0.000339755  0.102443      0.101962\n",
              "mse                     0.102202  0.000339755  0.102443      0.101962\n",
              "null_deviance           641.371   4.09477      638.475       644.266\n",
              "r2                      0.36328   0.00497525   0.366798      0.359762\n",
              "residual_deviance       408.338   5.79704      404.239       412.437\n",
              "rmse                    0.319691  0.000531381  0.320067      0.319315\n",
              "rmsle                   0.22469   0.000847126  0.224091      0.225289\n",
              "\n",
              "[tips]\n",
              "Use `model.explain()` to inspect the model.\n",
              "--\n",
              "Use `h2o.display.toggle_user_tips()` to switch on/off this section."
            ],
            "text/html": [
              "<pre style='margin: 1em 0 1em 0;'>Model Details\n",
              "=============\n",
              "H2OStackedEnsembleEstimator : Stacked Ensemble\n",
              "Model Key: StackedEnsemble_AllModels_1_AutoML_3_20230120_130911\n",
              "\n",
              "No summary for this model</pre>\n",
              "<div style='margin: 1em 0 1em 0;'><pre style='margin: 1em 0 1em 0;'>ModelMetricsRegressionGLM: stackedensemble\n",
              "** Reported on train data. **\n",
              "\n",
              "MSE: 0.07201947732872187\n",
              "RMSE: 0.2683644487049689\n",
              "MAE: 0.1711155092857022\n",
              "RMSLE: 0.18625441113079075\n",
              "Mean Residual Deviance: 0.07201947732872187\n",
              "R^2: 0.5513080523808869\n",
              "Null degrees of freedom: 7990\n",
              "Residual degrees of freedom: 7984\n",
              "Null deviance: 1282.6342134901495\n",
              "Residual deviance: 575.5076433338164\n",
              "AIC: 1670.6035810188882</pre></div>\n",
              "<div style='margin: 1em 0 1em 0;'><pre style='margin: 1em 0 1em 0;'>ModelMetricsRegressionGLM: stackedensemble\n",
              "** Reported on cross-validation data. **\n",
              "\n",
              "MSE: 0.10220053184082385\n",
              "RMSE: 0.3196881790758361\n",
              "MAE: 0.20894369206709815\n",
              "RMSLE: 0.224727503228789\n",
              "Mean Residual Deviance: 0.10220053184082385\n",
              "R^2: 0.36327563903215776\n",
              "Null degrees of freedom: 7990\n",
              "Residual degrees of freedom: 7984\n",
              "Null deviance: 1282.7412763767238\n",
              "Residual deviance: 816.6844499400235\n",
              "AIC: 4467.455824819874</pre></div>\n",
              "<div style='margin: 1em 0 1em 0;'>\n",
              "<style>\n",
              "\n",
              "#h2o-table-7.h2o-container {\n",
              "  overflow-x: auto;\n",
              "}\n",
              "#h2o-table-7 .h2o-table {\n",
              "  /* width: 100%; */\n",
              "  margin-top: 1em;\n",
              "  margin-bottom: 1em;\n",
              "}\n",
              "#h2o-table-7 .h2o-table caption {\n",
              "  white-space: nowrap;\n",
              "  caption-side: top;\n",
              "  text-align: left;\n",
              "  /* margin-left: 1em; */\n",
              "  margin: 0;\n",
              "  font-size: larger;\n",
              "}\n",
              "#h2o-table-7 .h2o-table thead {\n",
              "  white-space: nowrap; \n",
              "  position: sticky;\n",
              "  top: 0;\n",
              "  box-shadow: 0 -1px inset;\n",
              "}\n",
              "#h2o-table-7 .h2o-table tbody {\n",
              "  overflow: auto;\n",
              "}\n",
              "#h2o-table-7 .h2o-table th,\n",
              "#h2o-table-7 .h2o-table td {\n",
              "  text-align: right;\n",
              "  /* border: 1px solid; */\n",
              "}\n",
              "#h2o-table-7 .h2o-table tr:nth-child(even) {\n",
              "  /* background: #F5F5F5 */\n",
              "}\n",
              "\n",
              "</style>      \n",
              "<div id=\"h2o-table-7\" class=\"h2o-container\">\n",
              "  <table class=\"h2o-table\">\n",
              "    <caption>Cross-Validation Metrics Summary: </caption>\n",
              "    <thead><tr><th></th>\n",
              "<th>mean</th>\n",
              "<th>sd</th>\n",
              "<th>cv_1_valid</th>\n",
              "<th>cv_2_valid</th></tr></thead>\n",
              "    <tbody><tr><td>mae</td>\n",
              "<td>0.2091462</td>\n",
              "<td>0.0008100</td>\n",
              "<td>0.2097189</td>\n",
              "<td>0.2085734</td></tr>\n",
              "<tr><td>mean_residual_deviance</td>\n",
              "<td>0.1022025</td>\n",
              "<td>0.0003398</td>\n",
              "<td>0.1024427</td>\n",
              "<td>0.1019622</td></tr>\n",
              "<tr><td>mse</td>\n",
              "<td>0.1022025</td>\n",
              "<td>0.0003398</td>\n",
              "<td>0.1024427</td>\n",
              "<td>0.1019622</td></tr>\n",
              "<tr><td>null_deviance</td>\n",
              "<td>641.37067</td>\n",
              "<td>4.0947666</td>\n",
              "<td>638.4752</td>\n",
              "<td>644.26605</td></tr>\n",
              "<tr><td>r2</td>\n",
              "<td>0.3632804</td>\n",
              "<td>0.0049752</td>\n",
              "<td>0.3667984</td>\n",
              "<td>0.3597623</td></tr>\n",
              "<tr><td>residual_deviance</td>\n",
              "<td>408.338</td>\n",
              "<td>5.7970443</td>\n",
              "<td>404.2389</td>\n",
              "<td>412.43713</td></tr>\n",
              "<tr><td>rmse</td>\n",
              "<td>0.3196910</td>\n",
              "<td>0.0005314</td>\n",
              "<td>0.3200667</td>\n",
              "<td>0.3193152</td></tr>\n",
              "<tr><td>rmsle</td>\n",
              "<td>0.2246904</td>\n",
              "<td>0.0008471</td>\n",
              "<td>0.2240913</td>\n",
              "<td>0.2252894</td></tr></tbody>\n",
              "  </table>\n",
              "</div>\n",
              "</div><pre style=\"font-size: smaller; margin: 1em 0 0 0;\">\n",
              "\n",
              "[tips]\n",
              "Use `model.explain()` to inspect the model.\n",
              "--\n",
              "Use `h2o.display.toggle_user_tips()` to switch on/off this section.</pre>"
            ]
          },
          "metadata": {},
          "execution_count": 132
        }
      ],
      "source": [
        "aml.train(x=x,y=y, training_frame=df_train)"
      ]
    },
    {
      "cell_type": "markdown",
      "id": "VCJkCCaL_j0Y",
      "metadata": {
        "id": "VCJkCCaL_j0Y"
      },
      "source": [
        "### Seeing the Leaderboard"
      ]
    },
    {
      "cell_type": "code",
      "execution_count": 133,
      "id": "Qabq0iz--lm7",
      "metadata": {
        "id": "Qabq0iz--lm7"
      },
      "outputs": [],
      "source": [
        "lb = aml.leaderboard"
      ]
    },
    {
      "cell_type": "code",
      "execution_count": 134,
      "id": "wqrsBnGk_o8-",
      "metadata": {
        "id": "wqrsBnGk_o8-",
        "colab": {
          "base_uri": "https://localhost:8080/",
          "height": 389
        },
        "outputId": "ed65ac06-e501-4a91-8211-b804e917f082"
      },
      "outputs": [
        {
          "output_type": "execute_result",
          "data": {
            "text/plain": [
              "model_id                                                     rmse       mse       mae     rmsle    mean_residual_deviance\n",
              "-------------------------------------------------------  --------  --------  --------  --------  ------------------------\n",
              "StackedEnsemble_AllModels_1_AutoML_3_20230120_130911     0.319688  0.102201  0.208944  0.224728                  0.102201\n",
              "StackedEnsemble_BestOfFamily_1_AutoML_3_20230120_130911  0.320398  0.102655  0.209545  0.225275                  0.102655\n",
              "GBM_2_AutoML_3_20230120_130911                           0.32112   0.103118  0.210591  0.225816                  0.103118\n",
              "GBM_3_AutoML_3_20230120_130911                           0.322246  0.103842  0.209844  0.226601                  0.103842\n",
              "GBM_1_AutoML_3_20230120_130911                           0.322841  0.104227  0.217056  0.22706                   0.104227\n",
              "GBM_4_AutoML_3_20230120_130911                           0.324296  0.105168  0.213401  0.228699                  0.105168\n",
              "DRF_1_AutoML_3_20230120_130911                           0.327494  0.107252  0.215339  0.232024                  0.107252\n",
              "XGBoost_3_AutoML_3_20230120_130911                       0.328605  0.107981  0.219446  0.232725                  0.107981\n",
              "XRT_1_AutoML_3_20230120_130911                           0.341808  0.116833  0.253841  0.244894                  0.116833\n",
              "XGBoost_2_AutoML_3_20230120_130911                       0.35422   0.125472  0.240191  0.25585                   0.125472\n",
              "[12 rows x 6 columns]\n"
            ],
            "text/html": [
              "<table class='dataframe'>\n",
              "<thead>\n",
              "<tr><th>model_id                                               </th><th style=\"text-align: right;\">    rmse</th><th style=\"text-align: right;\">     mse</th><th style=\"text-align: right;\">     mae</th><th style=\"text-align: right;\">   rmsle</th><th style=\"text-align: right;\">  mean_residual_deviance</th></tr>\n",
              "</thead>\n",
              "<tbody>\n",
              "<tr><td>StackedEnsemble_AllModels_1_AutoML_3_20230120_130911   </td><td style=\"text-align: right;\">0.319688</td><td style=\"text-align: right;\">0.102201</td><td style=\"text-align: right;\">0.208944</td><td style=\"text-align: right;\">0.224728</td><td style=\"text-align: right;\">                0.102201</td></tr>\n",
              "<tr><td>StackedEnsemble_BestOfFamily_1_AutoML_3_20230120_130911</td><td style=\"text-align: right;\">0.320398</td><td style=\"text-align: right;\">0.102655</td><td style=\"text-align: right;\">0.209545</td><td style=\"text-align: right;\">0.225275</td><td style=\"text-align: right;\">                0.102655</td></tr>\n",
              "<tr><td>GBM_2_AutoML_3_20230120_130911                         </td><td style=\"text-align: right;\">0.32112 </td><td style=\"text-align: right;\">0.103118</td><td style=\"text-align: right;\">0.210591</td><td style=\"text-align: right;\">0.225816</td><td style=\"text-align: right;\">                0.103118</td></tr>\n",
              "<tr><td>GBM_3_AutoML_3_20230120_130911                         </td><td style=\"text-align: right;\">0.322246</td><td style=\"text-align: right;\">0.103842</td><td style=\"text-align: right;\">0.209844</td><td style=\"text-align: right;\">0.226601</td><td style=\"text-align: right;\">                0.103842</td></tr>\n",
              "<tr><td>GBM_1_AutoML_3_20230120_130911                         </td><td style=\"text-align: right;\">0.322841</td><td style=\"text-align: right;\">0.104227</td><td style=\"text-align: right;\">0.217056</td><td style=\"text-align: right;\">0.22706 </td><td style=\"text-align: right;\">                0.104227</td></tr>\n",
              "<tr><td>GBM_4_AutoML_3_20230120_130911                         </td><td style=\"text-align: right;\">0.324296</td><td style=\"text-align: right;\">0.105168</td><td style=\"text-align: right;\">0.213401</td><td style=\"text-align: right;\">0.228699</td><td style=\"text-align: right;\">                0.105168</td></tr>\n",
              "<tr><td>DRF_1_AutoML_3_20230120_130911                         </td><td style=\"text-align: right;\">0.327494</td><td style=\"text-align: right;\">0.107252</td><td style=\"text-align: right;\">0.215339</td><td style=\"text-align: right;\">0.232024</td><td style=\"text-align: right;\">                0.107252</td></tr>\n",
              "<tr><td>XGBoost_3_AutoML_3_20230120_130911                     </td><td style=\"text-align: right;\">0.328605</td><td style=\"text-align: right;\">0.107981</td><td style=\"text-align: right;\">0.219446</td><td style=\"text-align: right;\">0.232725</td><td style=\"text-align: right;\">                0.107981</td></tr>\n",
              "<tr><td>XRT_1_AutoML_3_20230120_130911                         </td><td style=\"text-align: right;\">0.341808</td><td style=\"text-align: right;\">0.116833</td><td style=\"text-align: right;\">0.253841</td><td style=\"text-align: right;\">0.244894</td><td style=\"text-align: right;\">                0.116833</td></tr>\n",
              "<tr><td>XGBoost_2_AutoML_3_20230120_130911                     </td><td style=\"text-align: right;\">0.35422 </td><td style=\"text-align: right;\">0.125472</td><td style=\"text-align: right;\">0.240191</td><td style=\"text-align: right;\">0.25585 </td><td style=\"text-align: right;\">                0.125472</td></tr>\n",
              "</tbody>\n",
              "</table><pre style='font-size: smaller; margin-bottom: 1em;'>[12 rows x 6 columns]</pre>"
            ]
          },
          "metadata": {},
          "execution_count": 134
        }
      ],
      "source": [
        "lb"
      ]
    },
    {
      "cell_type": "markdown",
      "id": "ZtJVJKF0zW_k",
      "metadata": {
        "id": "ZtJVJKF0zW_k"
      },
      "source": [
        "## Getting all the model ids"
      ]
    },
    {
      "cell_type": "code",
      "execution_count": 135,
      "id": "SeaIF7yRzODW",
      "metadata": {
        "id": "SeaIF7yRzODW"
      },
      "outputs": [],
      "source": [
        "model_ids = list(aml.leaderboard['model_id'].as_data_frame().iloc[:,0])"
      ]
    },
    {
      "cell_type": "code",
      "execution_count": 136,
      "id": "rhM8JNZGzVJb",
      "metadata": {
        "id": "rhM8JNZGzVJb",
        "colab": {
          "base_uri": "https://localhost:8080/"
        },
        "outputId": "78a66aff-e87d-45f1-d839-6e71472e0ce4"
      },
      "outputs": [
        {
          "output_type": "execute_result",
          "data": {
            "text/plain": [
              "['StackedEnsemble_AllModels_1_AutoML_3_20230120_130911',\n",
              " 'StackedEnsemble_BestOfFamily_1_AutoML_3_20230120_130911',\n",
              " 'GBM_2_AutoML_3_20230120_130911',\n",
              " 'GBM_3_AutoML_3_20230120_130911',\n",
              " 'GBM_1_AutoML_3_20230120_130911',\n",
              " 'GBM_4_AutoML_3_20230120_130911',\n",
              " 'DRF_1_AutoML_3_20230120_130911',\n",
              " 'XGBoost_3_AutoML_3_20230120_130911',\n",
              " 'XRT_1_AutoML_3_20230120_130911',\n",
              " 'XGBoost_2_AutoML_3_20230120_130911',\n",
              " 'XGBoost_1_AutoML_3_20230120_130911',\n",
              " 'GLM_1_AutoML_3_20230120_130911']"
            ]
          },
          "metadata": {},
          "execution_count": 136
        }
      ],
      "source": [
        "model_ids"
      ]
    },
    {
      "cell_type": "code",
      "execution_count": 137,
      "id": "AAb4JcCU0GPP",
      "metadata": {
        "id": "AAb4JcCU0GPP",
        "colab": {
          "base_uri": "https://localhost:8080/",
          "height": 288
        },
        "outputId": "00760cf7-18d5-4ff6-c87c-e2281ba6e646"
      },
      "outputs": [
        {
          "output_type": "execute_result",
          "data": {
            "text/plain": [
              "ModelMetricsRegressionGLM: stackedensemble\n",
              "** Reported on test data. **\n",
              "\n",
              "MSE: 0.10152818960748888\n",
              "RMSE: 0.3186348844798524\n",
              "MAE: 0.2040268493171124\n",
              "RMSLE: 0.22304836073133524\n",
              "Mean Residual Deviance: 0.10152818960748888\n",
              "R^2: 0.3985063102715197\n",
              "Null degrees of freedom: 2008\n",
              "Residual degrees of freedom: 2002\n",
              "Null deviance: 339.5100569513506\n",
              "Residual deviance: 203.97013292144516\n",
              "AIC: 1121.8706794416946"
            ],
            "text/html": [
              "<pre style='margin: 1em 0 1em 0;'>ModelMetricsRegressionGLM: stackedensemble\n",
              "** Reported on test data. **\n",
              "\n",
              "MSE: 0.10152818960748888\n",
              "RMSE: 0.3186348844798524\n",
              "MAE: 0.2040268493171124\n",
              "RMSLE: 0.22304836073133524\n",
              "Mean Residual Deviance: 0.10152818960748888\n",
              "R^2: 0.3985063102715197\n",
              "Null degrees of freedom: 2008\n",
              "Residual degrees of freedom: 2002\n",
              "Null deviance: 339.5100569513506\n",
              "Residual deviance: 203.97013292144516\n",
              "AIC: 1121.8706794416946</pre>"
            ]
          },
          "metadata": {},
          "execution_count": 137
        }
      ],
      "source": [
        "aml.leader.model_performance(df_test)"
      ]
    },
    {
      "cell_type": "markdown",
      "id": "XM_wLAv84lqT",
      "metadata": {
        "id": "XM_wLAv84lqT"
      },
      "source": [
        "### Getting the model details for best performing model"
      ]
    },
    {
      "cell_type": "code",
      "execution_count": 138,
      "id": "Pfj8vY3P0c09",
      "metadata": {
        "id": "Pfj8vY3P0c09",
        "colab": {
          "base_uri": "https://localhost:8080/",
          "height": 993
        },
        "outputId": "b7884cd0-f23f-4aae-80f2-d7b1b354b151"
      },
      "outputs": [
        {
          "output_type": "execute_result",
          "data": {
            "text/plain": [
              "Model Details\n",
              "=============\n",
              "H2OStackedEnsembleEstimator : Stacked Ensemble\n",
              "Model Key: StackedEnsemble_AllModels_1_AutoML_3_20230120_130911\n",
              "\n",
              "No summary for this model\n",
              "\n",
              "ModelMetricsRegressionGLM: stackedensemble\n",
              "** Reported on train data. **\n",
              "\n",
              "MSE: 0.07201947732872187\n",
              "RMSE: 0.2683644487049689\n",
              "MAE: 0.1711155092857022\n",
              "RMSLE: 0.18625441113079075\n",
              "Mean Residual Deviance: 0.07201947732872187\n",
              "R^2: 0.5513080523808869\n",
              "Null degrees of freedom: 7990\n",
              "Residual degrees of freedom: 7984\n",
              "Null deviance: 1282.6342134901495\n",
              "Residual deviance: 575.5076433338164\n",
              "AIC: 1670.6035810188882\n",
              "\n",
              "ModelMetricsRegressionGLM: stackedensemble\n",
              "** Reported on cross-validation data. **\n",
              "\n",
              "MSE: 0.10220053184082385\n",
              "RMSE: 0.3196881790758361\n",
              "MAE: 0.20894369206709815\n",
              "RMSLE: 0.224727503228789\n",
              "Mean Residual Deviance: 0.10220053184082385\n",
              "R^2: 0.36327563903215776\n",
              "Null degrees of freedom: 7990\n",
              "Residual degrees of freedom: 7984\n",
              "Null deviance: 1282.7412763767238\n",
              "Residual deviance: 816.6844499400235\n",
              "AIC: 4467.455824819874\n",
              "\n",
              "Cross-Validation Metrics Summary: \n",
              "                        mean      sd           cv_1_valid    cv_2_valid\n",
              "----------------------  --------  -----------  ------------  ------------\n",
              "mae                     0.209146  0.000809969  0.209719      0.208573\n",
              "mean_residual_deviance  0.102202  0.000339755  0.102443      0.101962\n",
              "mse                     0.102202  0.000339755  0.102443      0.101962\n",
              "null_deviance           641.371   4.09477      638.475       644.266\n",
              "r2                      0.36328   0.00497525   0.366798      0.359762\n",
              "residual_deviance       408.338   5.79704      404.239       412.437\n",
              "rmse                    0.319691  0.000531381  0.320067      0.319315\n",
              "rmsle                   0.22469   0.000847126  0.224091      0.225289\n",
              "\n",
              "[tips]\n",
              "Use `model.explain()` to inspect the model.\n",
              "--\n",
              "Use `h2o.display.toggle_user_tips()` to switch on/off this section."
            ],
            "text/html": [
              "<pre style='margin: 1em 0 1em 0;'>Model Details\n",
              "=============\n",
              "H2OStackedEnsembleEstimator : Stacked Ensemble\n",
              "Model Key: StackedEnsemble_AllModels_1_AutoML_3_20230120_130911\n",
              "\n",
              "No summary for this model</pre>\n",
              "<div style='margin: 1em 0 1em 0;'><pre style='margin: 1em 0 1em 0;'>ModelMetricsRegressionGLM: stackedensemble\n",
              "** Reported on train data. **\n",
              "\n",
              "MSE: 0.07201947732872187\n",
              "RMSE: 0.2683644487049689\n",
              "MAE: 0.1711155092857022\n",
              "RMSLE: 0.18625441113079075\n",
              "Mean Residual Deviance: 0.07201947732872187\n",
              "R^2: 0.5513080523808869\n",
              "Null degrees of freedom: 7990\n",
              "Residual degrees of freedom: 7984\n",
              "Null deviance: 1282.6342134901495\n",
              "Residual deviance: 575.5076433338164\n",
              "AIC: 1670.6035810188882</pre></div>\n",
              "<div style='margin: 1em 0 1em 0;'><pre style='margin: 1em 0 1em 0;'>ModelMetricsRegressionGLM: stackedensemble\n",
              "** Reported on cross-validation data. **\n",
              "\n",
              "MSE: 0.10220053184082385\n",
              "RMSE: 0.3196881790758361\n",
              "MAE: 0.20894369206709815\n",
              "RMSLE: 0.224727503228789\n",
              "Mean Residual Deviance: 0.10220053184082385\n",
              "R^2: 0.36327563903215776\n",
              "Null degrees of freedom: 7990\n",
              "Residual degrees of freedom: 7984\n",
              "Null deviance: 1282.7412763767238\n",
              "Residual deviance: 816.6844499400235\n",
              "AIC: 4467.455824819874</pre></div>\n",
              "<div style='margin: 1em 0 1em 0;'>\n",
              "<style>\n",
              "\n",
              "#h2o-table-8.h2o-container {\n",
              "  overflow-x: auto;\n",
              "}\n",
              "#h2o-table-8 .h2o-table {\n",
              "  /* width: 100%; */\n",
              "  margin-top: 1em;\n",
              "  margin-bottom: 1em;\n",
              "}\n",
              "#h2o-table-8 .h2o-table caption {\n",
              "  white-space: nowrap;\n",
              "  caption-side: top;\n",
              "  text-align: left;\n",
              "  /* margin-left: 1em; */\n",
              "  margin: 0;\n",
              "  font-size: larger;\n",
              "}\n",
              "#h2o-table-8 .h2o-table thead {\n",
              "  white-space: nowrap; \n",
              "  position: sticky;\n",
              "  top: 0;\n",
              "  box-shadow: 0 -1px inset;\n",
              "}\n",
              "#h2o-table-8 .h2o-table tbody {\n",
              "  overflow: auto;\n",
              "}\n",
              "#h2o-table-8 .h2o-table th,\n",
              "#h2o-table-8 .h2o-table td {\n",
              "  text-align: right;\n",
              "  /* border: 1px solid; */\n",
              "}\n",
              "#h2o-table-8 .h2o-table tr:nth-child(even) {\n",
              "  /* background: #F5F5F5 */\n",
              "}\n",
              "\n",
              "</style>      \n",
              "<div id=\"h2o-table-8\" class=\"h2o-container\">\n",
              "  <table class=\"h2o-table\">\n",
              "    <caption>Cross-Validation Metrics Summary: </caption>\n",
              "    <thead><tr><th></th>\n",
              "<th>mean</th>\n",
              "<th>sd</th>\n",
              "<th>cv_1_valid</th>\n",
              "<th>cv_2_valid</th></tr></thead>\n",
              "    <tbody><tr><td>mae</td>\n",
              "<td>0.2091462</td>\n",
              "<td>0.0008100</td>\n",
              "<td>0.2097189</td>\n",
              "<td>0.2085734</td></tr>\n",
              "<tr><td>mean_residual_deviance</td>\n",
              "<td>0.1022025</td>\n",
              "<td>0.0003398</td>\n",
              "<td>0.1024427</td>\n",
              "<td>0.1019622</td></tr>\n",
              "<tr><td>mse</td>\n",
              "<td>0.1022025</td>\n",
              "<td>0.0003398</td>\n",
              "<td>0.1024427</td>\n",
              "<td>0.1019622</td></tr>\n",
              "<tr><td>null_deviance</td>\n",
              "<td>641.37067</td>\n",
              "<td>4.0947666</td>\n",
              "<td>638.4752</td>\n",
              "<td>644.26605</td></tr>\n",
              "<tr><td>r2</td>\n",
              "<td>0.3632804</td>\n",
              "<td>0.0049752</td>\n",
              "<td>0.3667984</td>\n",
              "<td>0.3597623</td></tr>\n",
              "<tr><td>residual_deviance</td>\n",
              "<td>408.338</td>\n",
              "<td>5.7970443</td>\n",
              "<td>404.2389</td>\n",
              "<td>412.43713</td></tr>\n",
              "<tr><td>rmse</td>\n",
              "<td>0.3196910</td>\n",
              "<td>0.0005314</td>\n",
              "<td>0.3200667</td>\n",
              "<td>0.3193152</td></tr>\n",
              "<tr><td>rmsle</td>\n",
              "<td>0.2246904</td>\n",
              "<td>0.0008471</td>\n",
              "<td>0.2240913</td>\n",
              "<td>0.2252894</td></tr></tbody>\n",
              "  </table>\n",
              "</div>\n",
              "</div><pre style=\"font-size: smaller; margin: 1em 0 0 0;\">\n",
              "\n",
              "[tips]\n",
              "Use `model.explain()` to inspect the model.\n",
              "--\n",
              "Use `h2o.display.toggle_user_tips()` to switch on/off this section.</pre>"
            ]
          },
          "metadata": {},
          "execution_count": 138
        }
      ],
      "source": [
        "h2o.get_model([mid for mid in model_ids if \"StackedEnsemble\" in mid][0])"
      ]
    },
    {
      "cell_type": "code",
      "execution_count": 139,
      "id": "GptGBNNH09lb",
      "metadata": {
        "id": "GptGBNNH09lb",
        "colab": {
          "base_uri": "https://localhost:8080/"
        },
        "outputId": "ff561481-c28a-4ee7-e608-fc74c02080d9"
      },
      "outputs": [
        {
          "output_type": "execute_result",
          "data": {
            "text/plain": [
              "{'model_id': {'default': None,\n",
              "  'actual': {'__meta': {'schema_version': 3,\n",
              "    'schema_name': 'ModelKeyV3',\n",
              "    'schema_type': 'Key<Model>'},\n",
              "   'name': 'StackedEnsemble_AllModels_1_AutoML_3_20230120_130911',\n",
              "   'type': 'Key<Model>',\n",
              "   'URL': '/3/Models/StackedEnsemble_AllModels_1_AutoML_3_20230120_130911'},\n",
              "  'input': None},\n",
              " 'training_frame': {'default': None,\n",
              "  'actual': {'__meta': {'schema_version': 3,\n",
              "    'schema_name': 'FrameKeyV3',\n",
              "    'schema_type': 'Key<Frame>'},\n",
              "   'name': 'AutoML_3_20230120_130911_training_py_15_sid_810e',\n",
              "   'type': 'Key<Frame>',\n",
              "   'URL': '/3/Frames/AutoML_3_20230120_130911_training_py_15_sid_810e'},\n",
              "  'input': {'__meta': {'schema_version': 3,\n",
              "    'schema_name': 'FrameKeyV3',\n",
              "    'schema_type': 'Key<Frame>'},\n",
              "   'name': 'AutoML_3_20230120_130911_training_py_15_sid_810e',\n",
              "   'type': 'Key<Frame>',\n",
              "   'URL': '/3/Frames/AutoML_3_20230120_130911_training_py_15_sid_810e'}},\n",
              " 'response_column': {'default': None,\n",
              "  'actual': {'__meta': {'schema_version': 3,\n",
              "    'schema_name': 'ColSpecifierV3',\n",
              "    'schema_type': 'VecSpecifier'},\n",
              "   'column_name': 'Exited',\n",
              "   'is_member_of_frames': None},\n",
              "  'input': {'__meta': {'schema_version': 3,\n",
              "    'schema_name': 'ColSpecifierV3',\n",
              "    'schema_type': 'VecSpecifier'},\n",
              "   'column_name': 'Exited',\n",
              "   'is_member_of_frames': None}},\n",
              " 'validation_frame': {'default': None, 'actual': None, 'input': None},\n",
              " 'blending_frame': {'default': None, 'actual': None, 'input': None},\n",
              " 'base_models': {'default': [],\n",
              "  'actual': [{'__meta': {'schema_version': 3,\n",
              "     'schema_name': 'KeyV3',\n",
              "     'schema_type': 'Key<Keyed>'},\n",
              "    'name': 'GBM_2_AutoML_3_20230120_130911',\n",
              "    'type': 'Key<Keyed>',\n",
              "    'URL': None},\n",
              "   {'__meta': {'schema_version': 3,\n",
              "     'schema_name': 'KeyV3',\n",
              "     'schema_type': 'Key<Keyed>'},\n",
              "    'name': 'GBM_3_AutoML_3_20230120_130911',\n",
              "    'type': 'Key<Keyed>',\n",
              "    'URL': None},\n",
              "   {'__meta': {'schema_version': 3,\n",
              "     'schema_name': 'KeyV3',\n",
              "     'schema_type': 'Key<Keyed>'},\n",
              "    'name': 'GBM_1_AutoML_3_20230120_130911',\n",
              "    'type': 'Key<Keyed>',\n",
              "    'URL': None},\n",
              "   {'__meta': {'schema_version': 3,\n",
              "     'schema_name': 'KeyV3',\n",
              "     'schema_type': 'Key<Keyed>'},\n",
              "    'name': 'GBM_4_AutoML_3_20230120_130911',\n",
              "    'type': 'Key<Keyed>',\n",
              "    'URL': None},\n",
              "   {'__meta': {'schema_version': 3,\n",
              "     'schema_name': 'KeyV3',\n",
              "     'schema_type': 'Key<Keyed>'},\n",
              "    'name': 'DRF_1_AutoML_3_20230120_130911',\n",
              "    'type': 'Key<Keyed>',\n",
              "    'URL': None},\n",
              "   {'__meta': {'schema_version': 3,\n",
              "     'schema_name': 'KeyV3',\n",
              "     'schema_type': 'Key<Keyed>'},\n",
              "    'name': 'XGBoost_3_AutoML_3_20230120_130911',\n",
              "    'type': 'Key<Keyed>',\n",
              "    'URL': None},\n",
              "   {'__meta': {'schema_version': 3,\n",
              "     'schema_name': 'KeyV3',\n",
              "     'schema_type': 'Key<Keyed>'},\n",
              "    'name': 'XRT_1_AutoML_3_20230120_130911',\n",
              "    'type': 'Key<Keyed>',\n",
              "    'URL': None},\n",
              "   {'__meta': {'schema_version': 3,\n",
              "     'schema_name': 'KeyV3',\n",
              "     'schema_type': 'Key<Keyed>'},\n",
              "    'name': 'XGBoost_2_AutoML_3_20230120_130911',\n",
              "    'type': 'Key<Keyed>',\n",
              "    'URL': None},\n",
              "   {'__meta': {'schema_version': 3,\n",
              "     'schema_name': 'KeyV3',\n",
              "     'schema_type': 'Key<Keyed>'},\n",
              "    'name': 'XGBoost_1_AutoML_3_20230120_130911',\n",
              "    'type': 'Key<Keyed>',\n",
              "    'URL': None},\n",
              "   {'__meta': {'schema_version': 3,\n",
              "     'schema_name': 'KeyV3',\n",
              "     'schema_type': 'Key<Keyed>'},\n",
              "    'name': 'GLM_1_AutoML_3_20230120_130911',\n",
              "    'type': 'Key<Keyed>',\n",
              "    'URL': None}],\n",
              "  'input': [{'__meta': {'schema_version': 3,\n",
              "     'schema_name': 'KeyV3',\n",
              "     'schema_type': 'Key<Keyed>'},\n",
              "    'name': 'GBM_2_AutoML_3_20230120_130911',\n",
              "    'type': 'Key<Keyed>',\n",
              "    'URL': None},\n",
              "   {'__meta': {'schema_version': 3,\n",
              "     'schema_name': 'KeyV3',\n",
              "     'schema_type': 'Key<Keyed>'},\n",
              "    'name': 'GBM_3_AutoML_3_20230120_130911',\n",
              "    'type': 'Key<Keyed>',\n",
              "    'URL': None},\n",
              "   {'__meta': {'schema_version': 3,\n",
              "     'schema_name': 'KeyV3',\n",
              "     'schema_type': 'Key<Keyed>'},\n",
              "    'name': 'GBM_1_AutoML_3_20230120_130911',\n",
              "    'type': 'Key<Keyed>',\n",
              "    'URL': None},\n",
              "   {'__meta': {'schema_version': 3,\n",
              "     'schema_name': 'KeyV3',\n",
              "     'schema_type': 'Key<Keyed>'},\n",
              "    'name': 'GBM_4_AutoML_3_20230120_130911',\n",
              "    'type': 'Key<Keyed>',\n",
              "    'URL': None},\n",
              "   {'__meta': {'schema_version': 3,\n",
              "     'schema_name': 'KeyV3',\n",
              "     'schema_type': 'Key<Keyed>'},\n",
              "    'name': 'DRF_1_AutoML_3_20230120_130911',\n",
              "    'type': 'Key<Keyed>',\n",
              "    'URL': None},\n",
              "   {'__meta': {'schema_version': 3,\n",
              "     'schema_name': 'KeyV3',\n",
              "     'schema_type': 'Key<Keyed>'},\n",
              "    'name': 'XGBoost_3_AutoML_3_20230120_130911',\n",
              "    'type': 'Key<Keyed>',\n",
              "    'URL': None},\n",
              "   {'__meta': {'schema_version': 3,\n",
              "     'schema_name': 'KeyV3',\n",
              "     'schema_type': 'Key<Keyed>'},\n",
              "    'name': 'XRT_1_AutoML_3_20230120_130911',\n",
              "    'type': 'Key<Keyed>',\n",
              "    'URL': None},\n",
              "   {'__meta': {'schema_version': 3,\n",
              "     'schema_name': 'KeyV3',\n",
              "     'schema_type': 'Key<Keyed>'},\n",
              "    'name': 'XGBoost_2_AutoML_3_20230120_130911',\n",
              "    'type': 'Key<Keyed>',\n",
              "    'URL': None},\n",
              "   {'__meta': {'schema_version': 3,\n",
              "     'schema_name': 'KeyV3',\n",
              "     'schema_type': 'Key<Keyed>'},\n",
              "    'name': 'XGBoost_1_AutoML_3_20230120_130911',\n",
              "    'type': 'Key<Keyed>',\n",
              "    'URL': None},\n",
              "   {'__meta': {'schema_version': 3,\n",
              "     'schema_name': 'KeyV3',\n",
              "     'schema_type': 'Key<Keyed>'},\n",
              "    'name': 'GLM_1_AutoML_3_20230120_130911',\n",
              "    'type': 'Key<Keyed>',\n",
              "    'URL': None}]},\n",
              " 'metalearner_algorithm': {'default': 'AUTO',\n",
              "  'actual': 'glm',\n",
              "  'input': 'AUTO'},\n",
              " 'metalearner_nfolds': {'default': 0, 'actual': 2, 'input': 2},\n",
              " 'metalearner_fold_assignment': {'default': None,\n",
              "  'actual': None,\n",
              "  'input': None},\n",
              " 'metalearner_fold_column': {'default': None, 'actual': None, 'input': None},\n",
              " 'metalearner_params': {'default': '', 'actual': '', 'input': ''},\n",
              " 'metalearner_transform': {'default': 'NONE',\n",
              "  'actual': 'NONE',\n",
              "  'input': 'NONE'},\n",
              " 'max_runtime_secs': {'default': 0.0, 'actual': 0.0, 'input': 0.0},\n",
              " 'weights_column': {'default': None, 'actual': None, 'input': None},\n",
              " 'offset_column': {'default': None, 'actual': None, 'input': None},\n",
              " 'seed': {'default': -1, 'actual': 21, 'input': 21},\n",
              " 'score_training_samples': {'default': 10000, 'actual': 10000, 'input': 10000},\n",
              " 'keep_levelone_frame': {'default': False, 'actual': True, 'input': True},\n",
              " 'export_checkpoints_dir': {'default': None, 'actual': None, 'input': None},\n",
              " 'auc_type': {'default': 'AUTO', 'actual': 'AUTO', 'input': 'AUTO'}}"
            ]
          },
          "metadata": {},
          "execution_count": 139
        }
      ],
      "source": [
        "output= h2o.get_model([mid for mid in model_ids if \"StackedEnsemble\" in mid][0])\n",
        "output.params"
      ]
    },
    {
      "cell_type": "code",
      "execution_count": 140,
      "id": "eD-jCOer1Lt8",
      "metadata": {
        "id": "eD-jCOer1Lt8"
      },
      "outputs": [],
      "source": [
        "#output.varimp_plot()"
      ]
    },
    {
      "cell_type": "code",
      "execution_count": 141,
      "id": "zh0MidA-1_mn",
      "metadata": {
        "id": "zh0MidA-1_mn",
        "colab": {
          "base_uri": "https://localhost:8080/",
          "height": 993
        },
        "outputId": "a67d4db5-ef6f-4e23-8e3c-7ee467bb900f"
      },
      "outputs": [
        {
          "output_type": "execute_result",
          "data": {
            "text/plain": [
              "Model Details\n",
              "=============\n",
              "H2OStackedEnsembleEstimator : Stacked Ensemble\n",
              "Model Key: StackedEnsemble_AllModels_1_AutoML_3_20230120_130911\n",
              "\n",
              "No summary for this model\n",
              "\n",
              "ModelMetricsRegressionGLM: stackedensemble\n",
              "** Reported on train data. **\n",
              "\n",
              "MSE: 0.07201947732872187\n",
              "RMSE: 0.2683644487049689\n",
              "MAE: 0.1711155092857022\n",
              "RMSLE: 0.18625441113079075\n",
              "Mean Residual Deviance: 0.07201947732872187\n",
              "R^2: 0.5513080523808869\n",
              "Null degrees of freedom: 7990\n",
              "Residual degrees of freedom: 7984\n",
              "Null deviance: 1282.6342134901495\n",
              "Residual deviance: 575.5076433338164\n",
              "AIC: 1670.6035810188882\n",
              "\n",
              "ModelMetricsRegressionGLM: stackedensemble\n",
              "** Reported on cross-validation data. **\n",
              "\n",
              "MSE: 0.10220053184082385\n",
              "RMSE: 0.3196881790758361\n",
              "MAE: 0.20894369206709815\n",
              "RMSLE: 0.224727503228789\n",
              "Mean Residual Deviance: 0.10220053184082385\n",
              "R^2: 0.36327563903215776\n",
              "Null degrees of freedom: 7990\n",
              "Residual degrees of freedom: 7984\n",
              "Null deviance: 1282.7412763767238\n",
              "Residual deviance: 816.6844499400235\n",
              "AIC: 4467.455824819874\n",
              "\n",
              "Cross-Validation Metrics Summary: \n",
              "                        mean      sd           cv_1_valid    cv_2_valid\n",
              "----------------------  --------  -----------  ------------  ------------\n",
              "mae                     0.209146  0.000809969  0.209719      0.208573\n",
              "mean_residual_deviance  0.102202  0.000339755  0.102443      0.101962\n",
              "mse                     0.102202  0.000339755  0.102443      0.101962\n",
              "null_deviance           641.371   4.09477      638.475       644.266\n",
              "r2                      0.36328   0.00497525   0.366798      0.359762\n",
              "residual_deviance       408.338   5.79704      404.239       412.437\n",
              "rmse                    0.319691  0.000531381  0.320067      0.319315\n",
              "rmsle                   0.22469   0.000847126  0.224091      0.225289\n",
              "\n",
              "[tips]\n",
              "Use `model.explain()` to inspect the model.\n",
              "--\n",
              "Use `h2o.display.toggle_user_tips()` to switch on/off this section."
            ],
            "text/html": [
              "<pre style='margin: 1em 0 1em 0;'>Model Details\n",
              "=============\n",
              "H2OStackedEnsembleEstimator : Stacked Ensemble\n",
              "Model Key: StackedEnsemble_AllModels_1_AutoML_3_20230120_130911\n",
              "\n",
              "No summary for this model</pre>\n",
              "<div style='margin: 1em 0 1em 0;'><pre style='margin: 1em 0 1em 0;'>ModelMetricsRegressionGLM: stackedensemble\n",
              "** Reported on train data. **\n",
              "\n",
              "MSE: 0.07201947732872187\n",
              "RMSE: 0.2683644487049689\n",
              "MAE: 0.1711155092857022\n",
              "RMSLE: 0.18625441113079075\n",
              "Mean Residual Deviance: 0.07201947732872187\n",
              "R^2: 0.5513080523808869\n",
              "Null degrees of freedom: 7990\n",
              "Residual degrees of freedom: 7984\n",
              "Null deviance: 1282.6342134901495\n",
              "Residual deviance: 575.5076433338164\n",
              "AIC: 1670.6035810188882</pre></div>\n",
              "<div style='margin: 1em 0 1em 0;'><pre style='margin: 1em 0 1em 0;'>ModelMetricsRegressionGLM: stackedensemble\n",
              "** Reported on cross-validation data. **\n",
              "\n",
              "MSE: 0.10220053184082385\n",
              "RMSE: 0.3196881790758361\n",
              "MAE: 0.20894369206709815\n",
              "RMSLE: 0.224727503228789\n",
              "Mean Residual Deviance: 0.10220053184082385\n",
              "R^2: 0.36327563903215776\n",
              "Null degrees of freedom: 7990\n",
              "Residual degrees of freedom: 7984\n",
              "Null deviance: 1282.7412763767238\n",
              "Residual deviance: 816.6844499400235\n",
              "AIC: 4467.455824819874</pre></div>\n",
              "<div style='margin: 1em 0 1em 0;'>\n",
              "<style>\n",
              "\n",
              "#h2o-table-9.h2o-container {\n",
              "  overflow-x: auto;\n",
              "}\n",
              "#h2o-table-9 .h2o-table {\n",
              "  /* width: 100%; */\n",
              "  margin-top: 1em;\n",
              "  margin-bottom: 1em;\n",
              "}\n",
              "#h2o-table-9 .h2o-table caption {\n",
              "  white-space: nowrap;\n",
              "  caption-side: top;\n",
              "  text-align: left;\n",
              "  /* margin-left: 1em; */\n",
              "  margin: 0;\n",
              "  font-size: larger;\n",
              "}\n",
              "#h2o-table-9 .h2o-table thead {\n",
              "  white-space: nowrap; \n",
              "  position: sticky;\n",
              "  top: 0;\n",
              "  box-shadow: 0 -1px inset;\n",
              "}\n",
              "#h2o-table-9 .h2o-table tbody {\n",
              "  overflow: auto;\n",
              "}\n",
              "#h2o-table-9 .h2o-table th,\n",
              "#h2o-table-9 .h2o-table td {\n",
              "  text-align: right;\n",
              "  /* border: 1px solid; */\n",
              "}\n",
              "#h2o-table-9 .h2o-table tr:nth-child(even) {\n",
              "  /* background: #F5F5F5 */\n",
              "}\n",
              "\n",
              "</style>      \n",
              "<div id=\"h2o-table-9\" class=\"h2o-container\">\n",
              "  <table class=\"h2o-table\">\n",
              "    <caption>Cross-Validation Metrics Summary: </caption>\n",
              "    <thead><tr><th></th>\n",
              "<th>mean</th>\n",
              "<th>sd</th>\n",
              "<th>cv_1_valid</th>\n",
              "<th>cv_2_valid</th></tr></thead>\n",
              "    <tbody><tr><td>mae</td>\n",
              "<td>0.2091462</td>\n",
              "<td>0.0008100</td>\n",
              "<td>0.2097189</td>\n",
              "<td>0.2085734</td></tr>\n",
              "<tr><td>mean_residual_deviance</td>\n",
              "<td>0.1022025</td>\n",
              "<td>0.0003398</td>\n",
              "<td>0.1024427</td>\n",
              "<td>0.1019622</td></tr>\n",
              "<tr><td>mse</td>\n",
              "<td>0.1022025</td>\n",
              "<td>0.0003398</td>\n",
              "<td>0.1024427</td>\n",
              "<td>0.1019622</td></tr>\n",
              "<tr><td>null_deviance</td>\n",
              "<td>641.37067</td>\n",
              "<td>4.0947666</td>\n",
              "<td>638.4752</td>\n",
              "<td>644.26605</td></tr>\n",
              "<tr><td>r2</td>\n",
              "<td>0.3632804</td>\n",
              "<td>0.0049752</td>\n",
              "<td>0.3667984</td>\n",
              "<td>0.3597623</td></tr>\n",
              "<tr><td>residual_deviance</td>\n",
              "<td>408.338</td>\n",
              "<td>5.7970443</td>\n",
              "<td>404.2389</td>\n",
              "<td>412.43713</td></tr>\n",
              "<tr><td>rmse</td>\n",
              "<td>0.3196910</td>\n",
              "<td>0.0005314</td>\n",
              "<td>0.3200667</td>\n",
              "<td>0.3193152</td></tr>\n",
              "<tr><td>rmsle</td>\n",
              "<td>0.2246904</td>\n",
              "<td>0.0008471</td>\n",
              "<td>0.2240913</td>\n",
              "<td>0.2252894</td></tr></tbody>\n",
              "  </table>\n",
              "</div>\n",
              "</div><pre style=\"font-size: smaller; margin: 1em 0 0 0;\">\n",
              "\n",
              "[tips]\n",
              "Use `model.explain()` to inspect the model.\n",
              "--\n",
              "Use `h2o.display.toggle_user_tips()` to switch on/off this section.</pre>"
            ]
          },
          "metadata": {},
          "execution_count": 141
        }
      ],
      "source": [
        "aml.leader"
      ]
    },
    {
      "cell_type": "code",
      "execution_count": 142,
      "id": "bvargcqp_pxe",
      "metadata": {
        "id": "bvargcqp_pxe",
        "colab": {
          "base_uri": "https://localhost:8080/"
        },
        "outputId": "45df70a1-be73-4278-a3e4-cecb1cd407e4"
      },
      "outputs": [
        {
          "output_type": "stream",
          "name": "stdout",
          "text": [
            "stackedensemble prediction progress: |███████████████████████████████████████████| (done) 100%\n"
          ]
        }
      ],
      "source": [
        "y_pred=aml.leader.predict(df_test)"
      ]
    },
    {
      "cell_type": "code",
      "execution_count": 143,
      "id": "FhtqAVnuAA1e",
      "metadata": {
        "id": "FhtqAVnuAA1e",
        "colab": {
          "base_uri": "https://localhost:8080/",
          "height": 389
        },
        "outputId": "d4e33cb1-2084-490a-da14-3f9890288a02"
      },
      "outputs": [
        {
          "output_type": "execute_result",
          "data": {
            "text/plain": [
              "    predict\n",
              "-----------\n",
              " 0.139626\n",
              " 0.0296613\n",
              " 0.401456\n",
              " 0.300331\n",
              "-0.00777054\n",
              " 0.185182\n",
              " 0.0675511\n",
              " 1.08343\n",
              " 0.182652\n",
              " 0.0226222\n",
              "[2009 rows x 1 column]\n"
            ],
            "text/html": [
              "<table class='dataframe'>\n",
              "<thead>\n",
              "<tr><th style=\"text-align: right;\">    predict</th></tr>\n",
              "</thead>\n",
              "<tbody>\n",
              "<tr><td style=\"text-align: right;\"> 0.139626  </td></tr>\n",
              "<tr><td style=\"text-align: right;\"> 0.0296613 </td></tr>\n",
              "<tr><td style=\"text-align: right;\"> 0.401456  </td></tr>\n",
              "<tr><td style=\"text-align: right;\"> 0.300331  </td></tr>\n",
              "<tr><td style=\"text-align: right;\">-0.00777054</td></tr>\n",
              "<tr><td style=\"text-align: right;\"> 0.185182  </td></tr>\n",
              "<tr><td style=\"text-align: right;\"> 0.0675511 </td></tr>\n",
              "<tr><td style=\"text-align: right;\"> 1.08343   </td></tr>\n",
              "<tr><td style=\"text-align: right;\"> 0.182652  </td></tr>\n",
              "<tr><td style=\"text-align: right;\"> 0.0226222 </td></tr>\n",
              "</tbody>\n",
              "</table><pre style='font-size: smaller; margin-bottom: 1em;'>[2009 rows x 1 column]</pre>"
            ]
          },
          "metadata": {},
          "execution_count": 143
        }
      ],
      "source": [
        "y_pred"
      ]
    },
    {
      "cell_type": "code",
      "source": [],
      "metadata": {
        "id": "_C5j--RvR-TP"
      },
      "id": "_C5j--RvR-TP",
      "execution_count": null,
      "outputs": []
    }
  ],
  "metadata": {
    "colab": {
      "provenance": [],
      "include_colab_link": true
    },
    "kernelspec": {
      "display_name": "Python 3",
      "language": "python",
      "name": "python3"
    },
    "language_info": {
      "codemirror_mode": {
        "name": "ipython",
        "version": 3
      },
      "file_extension": ".py",
      "mimetype": "text/x-python",
      "name": "python",
      "nbconvert_exporter": "python",
      "pygments_lexer": "ipython3",
      "version": "3.8.8"
    }
  },
  "nbformat": 4,
  "nbformat_minor": 5
}